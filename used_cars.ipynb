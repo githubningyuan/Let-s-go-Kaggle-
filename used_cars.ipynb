{
 "cells": [
  {
   "cell_type": "code",
   "execution_count": 1,
   "metadata": {
    "collapsed": false
   },
   "outputs": [
    {
     "name": "stdout",
     "output_type": "stream",
     "text": [
      "Using matplotlib backend: TkAgg\n"
     ]
    }
   ],
   "source": [
    "% matplotlib"
   ]
  },
  {
   "cell_type": "code",
   "execution_count": 1,
   "metadata": {
    "collapsed": true
   },
   "outputs": [],
   "source": [
    "import pandas as pd\n",
    "import numpy as np\n",
    "import csv\n",
    "import matplotlib.pyplot as plt\n",
    "import datetime\n",
    "import time\n",
    "from datetime import datetime, date"
   ]
  },
  {
   "cell_type": "code",
   "execution_count": 2,
   "metadata": {
    "collapsed": true
   },
   "outputs": [],
   "source": [
    "df = pd.read_csv('trainset.csv')"
   ]
  },
  {
   "cell_type": "code",
   "execution_count": 3,
   "metadata": {
    "collapsed": true
   },
   "outputs": [],
   "source": [
    "df_test = pd.read_csv('testset.csv')"
   ]
  },
  {
   "cell_type": "markdown",
   "metadata": {},
   "source": [
    "### 丟棄'name', 'seller', 'offerType', 'model', 'nrOfPictures'"
   ]
  },
  {
   "cell_type": "code",
   "execution_count": 4,
   "metadata": {
    "collapsed": false
   },
   "outputs": [],
   "source": [
    "df = df.drop(['name', 'seller', 'offerType', 'model', 'nrOfPictures' ], axis = 1)"
   ]
  },
  {
   "cell_type": "code",
   "execution_count": 5,
   "metadata": {
    "collapsed": true
   },
   "outputs": [],
   "source": [
    "df_test = df_test.drop(['name', 'seller', 'offerType', 'model', 'nrOfPictures' ], axis = 1)"
   ]
  },
  {
   "cell_type": "code",
   "execution_count": 6,
   "metadata": {
    "collapsed": false
   },
   "outputs": [],
   "source": [
    "#print(df.shape)\n",
    "#print df.columns"
   ]
  },
  {
   "cell_type": "code",
   "execution_count": 7,
   "metadata": {
    "collapsed": false
   },
   "outputs": [],
   "source": [
    "#print(df_test.shape)\n",
    "#print df_test.columns"
   ]
  },
  {
   "cell_type": "markdown",
   "metadata": {},
   "source": [
    "### 01 'dateCrawled': "
   ]
  },
  {
   "cell_type": "markdown",
   "metadata": {},
   "source": [
    "### 02 'price': 把(price < 150) & (price > 15000)的資料丟掉"
   ]
  },
  {
   "cell_type": "code",
   "execution_count": 8,
   "metadata": {
    "collapsed": false
   },
   "outputs": [],
   "source": [
    "#print sorted(df.price)[55]\n",
    "#print sorted(df.price)[-50]"
   ]
  },
  {
   "cell_type": "code",
   "execution_count": 9,
   "metadata": {
    "collapsed": false
   },
   "outputs": [],
   "source": [
    "#df.price.describe()"
   ]
  },
  {
   "cell_type": "code",
   "execution_count": 10,
   "metadata": {
    "collapsed": false
   },
   "outputs": [
    {
     "name": "stdout",
     "output_type": "stream",
     "text": [
      "(5413, 16)\n"
     ]
    }
   ],
   "source": [
    "df = df[(df.price < 15000)&(df.price > 150)]\n",
    "print df.shape"
   ]
  },
  {
   "cell_type": "markdown",
   "metadata": {},
   "source": [
    "### 03 'abtest':"
   ]
  },
  {
   "cell_type": "code",
   "execution_count": 11,
   "metadata": {
    "collapsed": false
   },
   "outputs": [
    {
     "name": "stdout",
     "output_type": "stream",
     "text": [
      "(5413, 16)\n"
     ]
    }
   ],
   "source": [
    "df = df[df.abtest.isnull() == False]\n",
    "print df.shape"
   ]
  },
  {
   "cell_type": "code",
   "execution_count": 13,
   "metadata": {
    "collapsed": false
   },
   "outputs": [],
   "source": [
    "#print len(df_test[df_test.abtest.isnull()])"
   ]
  },
  {
   "cell_type": "markdown",
   "metadata": {},
   "source": [
    "### 04 'vehicleType':    "
   ]
  },
  {
   "cell_type": "markdown",
   "metadata": {},
   "source": [
    "kombi    bus    limousine    kleinwagen    suv    coupe    andere          \n",
    "旅行車 公共汽車 四門轎車 小型車 SUV 轎跑車  others"
   ]
  },
  {
   "cell_type": "code",
   "execution_count": 14,
   "metadata": {
    "collapsed": false
   },
   "outputs": [
    {
     "name": "stdout",
     "output_type": "stream",
     "text": [
      "(5370, 16)\n"
     ]
    }
   ],
   "source": [
    "df = df[df.vehicleType != 'andere']\n",
    "df = df[df.vehicleType.isnull() == False]\n",
    "print df.shape"
   ]
  },
  {
   "cell_type": "code",
   "execution_count": 15,
   "metadata": {
    "collapsed": false
   },
   "outputs": [],
   "source": [
    "#df.vehicleType.value_counts()"
   ]
  },
  {
   "cell_type": "code",
   "execution_count": 16,
   "metadata": {
    "collapsed": false
   },
   "outputs": [],
   "source": [
    "#df_test.vehicleType.value_counts()"
   ]
  },
  {
   "cell_type": "code",
   "execution_count": 17,
   "metadata": {
    "collapsed": false
   },
   "outputs": [],
   "source": [
    "#print len(df_test[df_test.vehicleType.isnull()])"
   ]
  },
  {
   "cell_type": "markdown",
   "metadata": {},
   "source": [
    "### 05 'yearOfRegistration': 剔除2017年"
   ]
  },
  {
   "cell_type": "code",
   "execution_count": 18,
   "metadata": {
    "collapsed": false
   },
   "outputs": [
    {
     "name": "stdout",
     "output_type": "stream",
     "text": [
      "(5370, 16)\n"
     ]
    }
   ],
   "source": [
    "df = df[df.yearOfRegistration<2017]\n",
    "print df.shape"
   ]
  },
  {
   "cell_type": "code",
   "execution_count": 19,
   "metadata": {
    "collapsed": false
   },
   "outputs": [],
   "source": [
    "#print sorted(df.yearOfRegistration)[:20]"
   ]
  },
  {
   "cell_type": "code",
   "execution_count": 20,
   "metadata": {
    "collapsed": false
   },
   "outputs": [],
   "source": [
    "#print sorted(df_test.yearOfRegistration)[:20]"
   ]
  },
  {
   "cell_type": "code",
   "execution_count": 21,
   "metadata": {
    "collapsed": false
   },
   "outputs": [],
   "source": [
    "#print len(df_test[df_test.yearOfRegistration.isnull()])"
   ]
  },
  {
   "cell_type": "markdown",
   "metadata": {},
   "source": [
    "### 06 'gearbox':"
   ]
  },
  {
   "cell_type": "code",
   "execution_count": 22,
   "metadata": {
    "collapsed": false
   },
   "outputs": [
    {
     "name": "stdout",
     "output_type": "stream",
     "text": [
      "(5356, 16)\n"
     ]
    }
   ],
   "source": [
    "df = df[df.gearbox.isnull() == False]\n",
    "print df.shape"
   ]
  },
  {
   "cell_type": "code",
   "execution_count": 23,
   "metadata": {
    "collapsed": false
   },
   "outputs": [],
   "source": [
    "#print len(df_test[df_test.gearbox.isnull()])"
   ]
  },
  {
   "cell_type": "markdown",
   "metadata": {},
   "source": [
    "### 07 'powerPS': test set有大量powerPS = 0的樣本 "
   ]
  },
  {
   "cell_type": "code",
   "execution_count": 24,
   "metadata": {
    "collapsed": false
   },
   "outputs": [],
   "source": [
    "#print sorted(df.powerPS)[:280]\n",
    "#print sorted(df.powerPS)[-10:]"
   ]
  },
  {
   "cell_type": "code",
   "execution_count": 26,
   "metadata": {
    "collapsed": false
   },
   "outputs": [],
   "source": [
    "#print sorted(df_test.powerPS)[:280]\n",
    "#print sorted(df_test.powerPS)[-10:]"
   ]
  },
  {
   "cell_type": "code",
   "execution_count": 27,
   "metadata": {
    "collapsed": false
   },
   "outputs": [],
   "source": [
    "#print len(df[df.powerPS==0])\n",
    "#print len(df_test[df_test.powerPS==0])"
   ]
  },
  {
   "cell_type": "code",
   "execution_count": 28,
   "metadata": {
    "collapsed": false
   },
   "outputs": [
    {
     "name": "stdout",
     "output_type": "stream",
     "text": [
      "(5100, 16)\n"
     ]
    }
   ],
   "source": [
    "df = df[(df.powerPS > 0)&(df.powerPS < 500)]\n",
    "print df.shape"
   ]
  },
  {
   "cell_type": "code",
   "execution_count": 29,
   "metadata": {
    "collapsed": false
   },
   "outputs": [],
   "source": [
    "#print(df.powerPS.mean())\n",
    "#print(df_test.powerPS.mean())"
   ]
  },
  {
   "cell_type": "code",
   "execution_count": 30,
   "metadata": {
    "collapsed": false
   },
   "outputs": [
    {
     "name": "stderr",
     "output_type": "stream",
     "text": [
      "/usr/local/lib/python2.7/dist-packages/ipykernel/__main__.py:1: SettingWithCopyWarning: \n",
      "A value is trying to be set on a copy of a slice from a DataFrame\n",
      "\n",
      "See the caveats in the documentation: http://pandas.pydata.org/pandas-docs/stable/indexing.html#indexing-view-versus-copy\n",
      "  if __name__ == '__main__':\n"
     ]
    }
   ],
   "source": [
    "df_test.powerPS[(df_test.powerPS == 0) | (df_test.powerPS > 500)] = df_test.powerPS.mean()"
   ]
  },
  {
   "cell_type": "code",
   "execution_count": 31,
   "metadata": {
    "collapsed": false
   },
   "outputs": [],
   "source": [
    "#print len(df_test[df_test.powerPS.isnull()])"
   ]
  },
  {
   "cell_type": "markdown",
   "metadata": {},
   "source": [
    "### 08 'kilometer':"
   ]
  },
  {
   "cell_type": "code",
   "execution_count": 32,
   "metadata": {
    "collapsed": false
   },
   "outputs": [
    {
     "name": "stdout",
     "output_type": "stream",
     "text": [
      "(5100, 16)\n"
     ]
    }
   ],
   "source": [
    "df = df[df.kilometer.isnull() == False]\n",
    "print df.shape"
   ]
  },
  {
   "cell_type": "code",
   "execution_count": 33,
   "metadata": {
    "collapsed": false
   },
   "outputs": [],
   "source": [
    "#print len(df_test[df_test.kilometer.isnull()])"
   ]
  },
  {
   "cell_type": "markdown",
   "metadata": {},
   "source": [
    "### 10 'fuelType':"
   ]
  },
  {
   "cell_type": "code",
   "execution_count": 34,
   "metadata": {
    "collapsed": false
   },
   "outputs": [
    {
     "name": "stdout",
     "output_type": "stream",
     "text": [
      "(5085, 16)\n"
     ]
    }
   ],
   "source": [
    "df = df[df.fuelType != 'elektro']\n",
    "df = df[df.fuelType.isnull() == False]\n",
    "print df.shape"
   ]
  },
  {
   "cell_type": "code",
   "execution_count": 35,
   "metadata": {
    "collapsed": false
   },
   "outputs": [],
   "source": [
    "#df.fuelType.value_counts()"
   ]
  },
  {
   "cell_type": "code",
   "execution_count": 36,
   "metadata": {
    "collapsed": false
   },
   "outputs": [],
   "source": [
    "#df_test.fuelType.value_counts()"
   ]
  },
  {
   "cell_type": "code",
   "execution_count": 37,
   "metadata": {
    "collapsed": false
   },
   "outputs": [],
   "source": [
    "#print len(df_test[df_test.fuelType.isnull()])"
   ]
  },
  {
   "cell_type": "markdown",
   "metadata": {},
   "source": [
    "### 11 'brand': 5台lada車 在train set沒出現"
   ]
  },
  {
   "cell_type": "code",
   "execution_count": 38,
   "metadata": {
    "collapsed": false
   },
   "outputs": [
    {
     "name": "stdout",
     "output_type": "stream",
     "text": [
      "(5085, 16)\n"
     ]
    }
   ],
   "source": [
    "df = df[df.brand.isnull() == False]\n",
    "print df.shape"
   ]
  },
  {
   "cell_type": "code",
   "execution_count": 39,
   "metadata": {
    "collapsed": false
   },
   "outputs": [],
   "source": [
    "#print len(df_test[df_test.brand.isnull()])"
   ]
  },
  {
   "cell_type": "code",
   "execution_count": 41,
   "metadata": {
    "collapsed": false
   },
   "outputs": [],
   "source": [
    "#set(df_test['brand'])-set(df['brand'])"
   ]
  },
  {
   "cell_type": "code",
   "execution_count": 42,
   "metadata": {
    "collapsed": false
   },
   "outputs": [],
   "source": [
    "#print len(df_test[df_test.brand == 'lada'])\n",
    "#print len(df_test[df_test.brand == 'lada'].dropna())"
   ]
  },
  {
   "cell_type": "markdown",
   "metadata": {},
   "source": [
    "### 12 'notRepairedDamage':"
   ]
  },
  {
   "cell_type": "code",
   "execution_count": 43,
   "metadata": {
    "collapsed": false
   },
   "outputs": [
    {
     "name": "stdout",
     "output_type": "stream",
     "text": [
      "(5043, 16)\n"
     ]
    }
   ],
   "source": [
    "df = df[df.notRepairedDamage.isnull() == False]\n",
    "print df.shape"
   ]
  },
  {
   "cell_type": "code",
   "execution_count": 44,
   "metadata": {
    "collapsed": false
   },
   "outputs": [],
   "source": [
    "#print len(df_test[df_test.notRepairedDamage.isnull()])"
   ]
  },
  {
   "cell_type": "code",
   "execution_count": 23,
   "metadata": {
    "collapsed": false
   },
   "outputs": [],
   "source": [
    "##df.notRepairedDamage[df.notRepairedDamage=='nein']=1.\n",
    "##df.notRepairedDamage[df.notRepairedDamage=='ja']=0."
   ]
  },
  {
   "cell_type": "markdown",
   "metadata": {},
   "source": [
    "### 13 'dateCreated':"
   ]
  },
  {
   "cell_type": "markdown",
   "metadata": {},
   "source": [
    "### 15 'lastSeen':"
   ]
  },
  {
   "cell_type": "markdown",
   "metadata": {},
   "source": [
    "### 09 'monthOfRegistration': "
   ]
  },
  {
   "cell_type": "code",
   "execution_count": 39,
   "metadata": {
    "collapsed": false
   },
   "outputs": [],
   "source": [
    "# df.monthOfRegistration.value_counts().sort_index()\n",
    "# df_test.monthOfRegistration.value_counts().sort_index()"
   ]
  },
  {
   "cell_type": "code",
   "execution_count": 41,
   "metadata": {
    "collapsed": false
   },
   "outputs": [],
   "source": [
    "#print sorted(df.yearOfRegistration[df.monthOfRegistration==0])[-10:]\n",
    "#print sorted(df_test.yearOfRegistration[df_test.monthOfRegistration==0])[-10:]\n",
    "#print df_test[df_test.monthOfRegistration.isnull()].shape"
   ]
  },
  {
   "cell_type": "code",
   "execution_count": 45,
   "metadata": {
    "collapsed": true
   },
   "outputs": [],
   "source": [
    "#df_month_zero_reserv = df\n",
    "df = df[df.monthOfRegistration!=0]"
   ]
  },
  {
   "cell_type": "code",
   "execution_count": 30,
   "metadata": {
    "collapsed": true
   },
   "outputs": [],
   "source": [
    "#df_01 = df_month_zero_reserv\n",
    "#df_01.monthOfRegistration[df_01.monthOfRegistration==0] = 6"
   ]
  },
  {
   "cell_type": "code",
   "execution_count": 46,
   "metadata": {
    "collapsed": false
   },
   "outputs": [
    {
     "name": "stderr",
     "output_type": "stream",
     "text": [
      "/usr/local/lib/python2.7/dist-packages/ipykernel/__main__.py:1: SettingWithCopyWarning: \n",
      "A value is trying to be set on a copy of a slice from a DataFrame\n",
      "\n",
      "See the caveats in the documentation: http://pandas.pydata.org/pandas-docs/stable/indexing.html#indexing-view-versus-copy\n",
      "  if __name__ == '__main__':\n"
     ]
    }
   ],
   "source": [
    "df_test.monthOfRegistration[df_test.monthOfRegistration==0] = 6"
   ]
  },
  {
   "cell_type": "markdown",
   "metadata": {},
   "source": [
    "### 16 'ad_exist_time':"
   ]
  },
  {
   "cell_type": "code",
   "execution_count": 47,
   "metadata": {
    "collapsed": false
   },
   "outputs": [],
   "source": [
    "#print len(df_test[df_test.ad_exist_time.isnull()])"
   ]
  },
  {
   "cell_type": "code",
   "execution_count": 48,
   "metadata": {
    "collapsed": true
   },
   "outputs": [],
   "source": [
    "df_A = df[df.ad_exist_time.isnull()==False ]\n",
    "df_B = df[df.ad_exist_time.isnull()]"
   ]
  },
  {
   "cell_type": "code",
   "execution_count": 49,
   "metadata": {
    "collapsed": false
   },
   "outputs": [],
   "source": [
    "#print( df_A.shape, df_B.shape )"
   ]
  },
  {
   "cell_type": "code",
   "execution_count": 50,
   "metadata": {
    "collapsed": false
   },
   "outputs": [],
   "source": [
    "df_B_adExist = []\n",
    "for idx in df_B.index:\n",
    "    df_B_adExist = df_B_adExist + [abs(datetime.strptime(df_B['lastSeen'][idx], '%Y/%m/%d %H:%M').date() \n",
    " - datetime.strptime(df_B['dateCreated'][idx], '%Y/%m/%d %H:%M').date() ).days]   "
   ]
  },
  {
   "cell_type": "code",
   "execution_count": 51,
   "metadata": {
    "collapsed": true
   },
   "outputs": [],
   "source": [
    "index_B = df_B.index"
   ]
  },
  {
   "cell_type": "code",
   "execution_count": 52,
   "metadata": {
    "collapsed": true
   },
   "outputs": [],
   "source": [
    "df_B.index = range(len(df_B.index))"
   ]
  },
  {
   "cell_type": "code",
   "execution_count": 53,
   "metadata": {
    "collapsed": false
   },
   "outputs": [
    {
     "name": "stderr",
     "output_type": "stream",
     "text": [
      "/usr/local/lib/python2.7/dist-packages/pandas/core/generic.py:2773: SettingWithCopyWarning: \n",
      "A value is trying to be set on a copy of a slice from a DataFrame.\n",
      "Try using .loc[row_indexer,col_indexer] = value instead\n",
      "\n",
      "See the caveats in the documentation: http://pandas.pydata.org/pandas-docs/stable/indexing.html#indexing-view-versus-copy\n",
      "  self[name] = value\n"
     ]
    }
   ],
   "source": [
    "df_B.ad_exist_time = pd.DataFrame(df_B_adExist)"
   ]
  },
  {
   "cell_type": "code",
   "execution_count": 54,
   "metadata": {
    "collapsed": false
   },
   "outputs": [],
   "source": [
    "df_B.index = index_B\n",
    "#df_B.head()"
   ]
  },
  {
   "cell_type": "markdown",
   "metadata": {},
   "source": [
    "### 加入 'ages'屬性："
   ]
  },
  {
   "cell_type": "code",
   "execution_count": 55,
   "metadata": {
    "collapsed": true
   },
   "outputs": [],
   "source": [
    "df_B_ages = []"
   ]
  },
  {
   "cell_type": "code",
   "execution_count": 56,
   "metadata": {
    "collapsed": false
   },
   "outputs": [],
   "source": [
    "for idx in df_B.index:\n",
    "    df_B_ages = df_B_ages + [(datetime.strptime(df_B['dateCrawled'][idx], '%Y/%m/%d %H:%M').date() \n",
    "                          - date(df_B['yearOfRegistration'][idx], df_B['monthOfRegistration'][idx], 15 )).days]                     \n",
    "    "
   ]
  },
  {
   "cell_type": "code",
   "execution_count": 57,
   "metadata": {
    "collapsed": true
   },
   "outputs": [],
   "source": [
    "df_B.index = range(len(df_B.index))"
   ]
  },
  {
   "cell_type": "code",
   "execution_count": 58,
   "metadata": {
    "collapsed": false
   },
   "outputs": [],
   "source": [
    "df_B = pd.concat([df_B,  pd.DataFrame(df_B_ages)  ], axis=1)\n",
    "name_list_B = list(df_B.columns)\n",
    "name_list_B[-1]='ages'\n",
    "df_B.columns = name_list_B"
   ]
  },
  {
   "cell_type": "code",
   "execution_count": 59,
   "metadata": {
    "collapsed": false
   },
   "outputs": [],
   "source": [
    "df_B.index = index_B"
   ]
  },
  {
   "cell_type": "code",
   "execution_count": 61,
   "metadata": {
    "collapsed": false
   },
   "outputs": [],
   "source": [
    "#df_B.head(1)"
   ]
  },
  {
   "cell_type": "code",
   "execution_count": 62,
   "metadata": {
    "collapsed": true
   },
   "outputs": [],
   "source": [
    "df_A_ages = []"
   ]
  },
  {
   "cell_type": "code",
   "execution_count": 63,
   "metadata": {
    "collapsed": false
   },
   "outputs": [],
   "source": [
    "for idx in df_A.index:\n",
    "    df_A_ages = df_A_ages +[\n",
    "        (datetime.strptime(df_A['dateCrawled'][idx], '%Y-%m-%dT%H:%M:%SZ').date() \n",
    "       - date(df_A['yearOfRegistration'][idx], df_A['monthOfRegistration'][idx], 15 )).days\n",
    "        ]                     "
   ]
  },
  {
   "cell_type": "code",
   "execution_count": 64,
   "metadata": {
    "collapsed": true
   },
   "outputs": [],
   "source": [
    "index_A = df_A.index \n",
    "df_A.index = range(len(df_A.index))"
   ]
  },
  {
   "cell_type": "code",
   "execution_count": 65,
   "metadata": {
    "collapsed": false
   },
   "outputs": [],
   "source": [
    "df_A = pd.concat([df_A,  pd.DataFrame(df_A_ages)  ], axis=1)\n",
    "name_list_A = list(df_A.columns)\n",
    "name_list_A[-1]='ages'\n",
    "df_A.columns = name_list_A\n",
    "df_A.index = index_A\n",
    "#df_A.head(1)"
   ]
  },
  {
   "cell_type": "code",
   "execution_count": 66,
   "metadata": {
    "collapsed": true
   },
   "outputs": [],
   "source": [
    "df = pd.concat([df_A,  df_B  ], axis=0)"
   ]
  },
  {
   "cell_type": "code",
   "execution_count": null,
   "metadata": {
    "collapsed": false
   },
   "outputs": [],
   "source": []
  },
  {
   "cell_type": "code",
   "execution_count": 67,
   "metadata": {
    "collapsed": true
   },
   "outputs": [],
   "source": [
    "df_test_ages = []"
   ]
  },
  {
   "cell_type": "code",
   "execution_count": 68,
   "metadata": {
    "collapsed": true
   },
   "outputs": [],
   "source": [
    "for idx in df_test.index:\n",
    "     df_test_ages = df_test_ages + [abs(datetime.strptime(df_test['dateCrawled'][idx], '%Y-%m-%dT%H:%M:%SZ').date() \n",
    "                          - date(df_test['yearOfRegistration'][idx], df_test['monthOfRegistration'][idx], 15 )).days]                     \n",
    "    "
   ]
  },
  {
   "cell_type": "code",
   "execution_count": 69,
   "metadata": {
    "collapsed": false
   },
   "outputs": [],
   "source": [
    "df_test = pd.concat([df_test,  pd.DataFrame(df_test_ages)  ], axis=1)\n",
    "name_test_list = list(df_test.columns)\n",
    "name_test_list[-1]='ages'\n",
    "df_test.columns = name_test_list\n",
    "#df_test.head(1)"
   ]
  },
  {
   "cell_type": "code",
   "execution_count": null,
   "metadata": {
    "collapsed": true
   },
   "outputs": [],
   "source": []
  },
  {
   "cell_type": "code",
   "execution_count": null,
   "metadata": {
    "collapsed": true
   },
   "outputs": [],
   "source": []
  },
  {
   "cell_type": "code",
   "execution_count": 70,
   "metadata": {
    "collapsed": true
   },
   "outputs": [],
   "source": [
    "df = df.drop([ 'dateCrawled', 'lastSeen', 'dateCreated', 'monthOfRegistration' ], axis = 1)\n",
    "df_test = df_test.drop(['dateCrawled', 'lastSeen', 'dateCreated' , 'monthOfRegistration'], axis = 1)"
   ]
  },
  {
   "cell_type": "code",
   "execution_count": 71,
   "metadata": {
    "collapsed": false
   },
   "outputs": [],
   "source": [
    "#print(df.shape)\n",
    "#df.columns"
   ]
  },
  {
   "cell_type": "code",
   "execution_count": 72,
   "metadata": {
    "collapsed": false
   },
   "outputs": [],
   "source": [
    "#print(df_test.shape)\n",
    "#df_test.columns"
   ]
  },
  {
   "cell_type": "code",
   "execution_count": null,
   "metadata": {
    "collapsed": true
   },
   "outputs": [],
   "source": []
  },
  {
   "cell_type": "markdown",
   "metadata": {},
   "source": [
    "### 14 'postalCode':"
   ]
  },
  {
   "cell_type": "code",
   "execution_count": 73,
   "metadata": {
    "collapsed": false,
    "scrolled": true
   },
   "outputs": [
    {
     "name": "stdout",
     "output_type": "stream",
     "text": [
      "(4898, 13)\n"
     ]
    }
   ],
   "source": [
    "df = df[df.postalCode.isnull() == False]\n",
    "print df.shape"
   ]
  },
  {
   "cell_type": "code",
   "execution_count": 74,
   "metadata": {
    "collapsed": false
   },
   "outputs": [],
   "source": [
    "#print len(df_test[df_test.postalCode.isnull()])"
   ]
  },
  {
   "cell_type": "code",
   "execution_count": 46,
   "metadata": {
    "collapsed": true
   },
   "outputs": [],
   "source": [
    "#backup_postalCode = df.postalCode.multiply(0.0001).apply(np.int64).apply(str)"
   ]
  },
  {
   "cell_type": "code",
   "execution_count": 75,
   "metadata": {
    "collapsed": false
   },
   "outputs": [],
   "source": [
    "#df.postalCode = backup_postalCode\n",
    "#print df.postalCode[:1]"
   ]
  },
  {
   "cell_type": "code",
   "execution_count": 76,
   "metadata": {
    "collapsed": true
   },
   "outputs": [],
   "source": [
    "#backup_postalCode_test = df_test.postalCode.multiply(0.0001).apply(np.int64).apply(str)"
   ]
  },
  {
   "cell_type": "code",
   "execution_count": 77,
   "metadata": {
    "collapsed": false
   },
   "outputs": [],
   "source": [
    "#df_test.postalCode = backup_postalCode_test\n",
    "#print df_test.postalCode[:1]"
   ]
  },
  {
   "cell_type": "code",
   "execution_count": 78,
   "metadata": {
    "collapsed": true
   },
   "outputs": [],
   "source": [
    "#df_postalCode_reserv = df\n",
    "#df_test_postalCode_reserv = df_test\n",
    "df = df.drop(['postalCode' ], axis = 1)\n",
    "df_test = df_test.drop(['postalCode' ], axis = 1)"
   ]
  },
  {
   "cell_type": "code",
   "execution_count": null,
   "metadata": {
    "collapsed": true
   },
   "outputs": [],
   "source": []
  },
  {
   "cell_type": "code",
   "execution_count": null,
   "metadata": {
    "collapsed": true
   },
   "outputs": [],
   "source": []
  },
  {
   "cell_type": "code",
   "execution_count": 79,
   "metadata": {
    "collapsed": false
   },
   "outputs": [],
   "source": [
    "#print df.shape\n",
    "#print df.dropna().shape"
   ]
  },
  {
   "cell_type": "code",
   "execution_count": 80,
   "metadata": {
    "collapsed": false
   },
   "outputs": [],
   "source": [
    "df.to_csv('df_cleaned.csv', index=False)\n",
    "df_test.to_csv('df_test_cleaned.csv', index=False)\n",
    "df_01 = pd.read_csv('df_cleaned.csv')\n",
    "df_test_01 = pd.read_csv('df_test_cleaned.csv')"
   ]
  },
  {
   "cell_type": "markdown",
   "metadata": {},
   "source": [
    "df_clean_01:  Index([u'price', u'abtest', u'vehicleType', u'yearOfRegistration', u'gearbox', u'powerPS', u'kilometer', u'fuelType', u'brand', u'notRepairedDamage',\n",
    "       u'ad_exist_time', u'ages'],\n",
    "      dtype='object')     \n",
    "Preprosessing:  0 < price, yearOfRegistration < 2017,   0 < power < 601,\n",
    "            df = df[ df.monthOfRegistration != 0], \n",
    "            Drop all missing values     \n",
    "\n",
    "df_test_clean_01: Index([u'id', u'abtest', u'vehicleType', u'yearOfRegistration', u'gearbox',\n",
    "       u'powerPS', u'kilometer', u'fuelType', u'brand', u'notRepairedDamage',\n",
    "       u'ad_exist_time', u'ages'],\n",
    "      dtype='object')\n",
    "Preprosessing:    df[ df.monthOfRegistration == 0] = 6"
   ]
  },
  {
   "cell_type": "code",
   "execution_count": 62,
   "metadata": {
    "collapsed": true
   },
   "outputs": [],
   "source": [
    "#df_02.to_csv('df_clean_02.csv', index=False)\n",
    "#df_test_02.to_csv('df_test_clean_02.csv', index=False)\n",
    "#df_02 = pd.read_csv('df_clean_02.csv')\n",
    "#df_test_02 = pd.read_csv('df_test_clean_02.csv')"
   ]
  },
  {
   "cell_type": "markdown",
   "metadata": {},
   "source": [
    "df_clean_02: Index([u'price', u'abtest', u'vehicleType', u'yearOfRegistration', u'gearbox', u'powerPS', u'kilometer', u'fuelType', u'brand', u'notRepairedDamage',\n",
    "       u'postalCode', u'ad_exist_time', u'ages'], dtype='object')\n",
    "Preprosessing: 0 < price, yearOfRegistration < 2017, 0 < power < 601, 0 < postalCode < 9, df = df[ df.monthOfRegistration != 0], Drop all missing values\n",
    "\n",
    "df_test_clean_02: Index([u'id', u'abtest', u'vehicleType', u'yearOfRegistration', u'gearbox', u'powerPS', u'kilometer', u'fuelType', u'brand', u'notRepairedDamage',\n",
    "       u'postalCode', u'ad_exist_time', u'ages'], dtype='object')   Preprosessing: 0 < postalCode < 9, df[ df.monthOfRegistration == 0] = 6"
   ]
  },
  {
   "cell_type": "code",
   "execution_count": null,
   "metadata": {
    "collapsed": true
   },
   "outputs": [],
   "source": []
  },
  {
   "cell_type": "code",
   "execution_count": null,
   "metadata": {
    "collapsed": true
   },
   "outputs": [],
   "source": []
  },
  {
   "cell_type": "code",
   "execution_count": 52,
   "metadata": {
    "collapsed": true
   },
   "outputs": [],
   "source": []
  },
  {
   "cell_type": "code",
   "execution_count": 81,
   "metadata": {
    "collapsed": false
   },
   "outputs": [
    {
     "name": "stderr",
     "output_type": "stream",
     "text": [
      "/usr/local/lib/python2.7/dist-packages/sklearn/cross_validation.py:44: DeprecationWarning: This module was deprecated in version 0.18 in favor of the model_selection module into which all the refactored classes and functions are moved. Also note that the interface of the new CV iterators are different from that of this module. This module will be removed in 0.20.\n",
      "  \"This module will be removed in 0.20.\", DeprecationWarning)\n",
      "/usr/local/lib/python2.7/dist-packages/sklearn/grid_search.py:43: DeprecationWarning: This module was deprecated in version 0.18 in favor of the model_selection module into which all the refactored classes and functions are moved. This module will be removed in 0.20.\n",
      "  DeprecationWarning)\n"
     ]
    }
   ],
   "source": [
    "from sklearn.linear_model import LinearRegression, SGDRegressor\n",
    "from sklearn.ensemble import ExtraTreesRegressor, RandomForestRegressor, GradientBoostingRegressor\n",
    "from sklearn.svm import  SVR\n",
    "from sklearn.cross_validation import train_test_split, cross_val_score\n",
    "from sklearn.metrics import r2_score, mean_squared_error, mean_absolute_error\n",
    "from sklearn.preprocessing import StandardScaler\n",
    "from sklearn.feature_extraction import DictVectorizer\n",
    "from sklearn.grid_search import GridSearchCV "
   ]
  },
  {
   "cell_type": "markdown",
   "metadata": {},
   "source": [
    "## Prepare train/val/test data for  LinearRegression and RandomForestRegressor"
   ]
  },
  {
   "cell_type": "code",
   "execution_count": 82,
   "metadata": {
    "collapsed": true
   },
   "outputs": [],
   "source": [
    "y_01 = df_01['price']\n",
    "X_01 = df_01.drop(['price'], axis = 1)\n",
    "X_test_01 = df_test_01.drop(['id'], axis = 1)\n",
    "id_test_01 = df_test_01['id']"
   ]
  },
  {
   "cell_type": "code",
   "execution_count": 84,
   "metadata": {
    "collapsed": false
   },
   "outputs": [],
   "source": [
    "X_train_01, X_val_01, y_train_01, y_val_01 =train_test_split(\n",
    "    X_01, y_01, test_size = 0.3, random_state = 222 )"
   ]
  },
  {
   "cell_type": "code",
   "execution_count": 85,
   "metadata": {
    "collapsed": false
   },
   "outputs": [
    {
     "name": "stdout",
     "output_type": "stream",
     "text": [
      "(4898, 11)\n",
      "(3428, 11)\n",
      "(5000, 11)\n"
     ]
    }
   ],
   "source": [
    "print( X_01.shape)\n",
    "print( X_train_01.shape)\n",
    "#print( X_val_01.shape)\n",
    "print( X_test_01.shape)"
   ]
  },
  {
   "cell_type": "code",
   "execution_count": 86,
   "metadata": {
    "collapsed": true
   },
   "outputs": [],
   "source": [
    "vec = DictVectorizer()"
   ]
  },
  {
   "cell_type": "code",
   "execution_count": 87,
   "metadata": {
    "collapsed": false
   },
   "outputs": [],
   "source": [
    "X_train_01 = vec.fit_transform(X_train_01.to_dict(orient = 'record'))"
   ]
  },
  {
   "cell_type": "code",
   "execution_count": 88,
   "metadata": {
    "collapsed": false
   },
   "outputs": [],
   "source": [
    "X_test_01 = vec.transform(X_test_01.to_dict(orient = 'record'))"
   ]
  },
  {
   "cell_type": "code",
   "execution_count": 89,
   "metadata": {
    "collapsed": true
   },
   "outputs": [],
   "source": [
    "X_val_01 = vec.transform(X_val_01.to_dict(orient = 'record'))"
   ]
  },
  {
   "cell_type": "code",
   "execution_count": 90,
   "metadata": {
    "collapsed": false
   },
   "outputs": [],
   "source": [
    "#print (len(vec.feature_names_))"
   ]
  },
  {
   "cell_type": "markdown",
   "metadata": {},
   "source": [
    "## LinearRegression"
   ]
  },
  {
   "cell_type": "code",
   "execution_count": 15,
   "metadata": {
    "collapsed": true
   },
   "outputs": [],
   "source": [
    "lr_01 = LinearRegression()"
   ]
  },
  {
   "cell_type": "code",
   "execution_count": 16,
   "metadata": {
    "collapsed": false
   },
   "outputs": [],
   "source": [
    "lr_01.fit(X_train_01, y_train_01)\n",
    "lr_val_predict_01 = lr_01.predict(X_val_01)"
   ]
  },
  {
   "cell_type": "code",
   "execution_count": 17,
   "metadata": {
    "collapsed": false
   },
   "outputs": [
    {
     "name": "stdout",
     "output_type": "stream",
     "text": [
      "('LR default measure:', 0.52853108731248399)\n"
     ]
    }
   ],
   "source": [
    "print('LR default measure:', lr_01.score(X_val_01, y_val_01))"
   ]
  },
  {
   "cell_type": "markdown",
   "metadata": {},
   "source": [
    "## RandomForestRegressor"
   ]
  },
  {
   "cell_type": "code",
   "execution_count": 101,
   "metadata": {
    "collapsed": false
   },
   "outputs": [],
   "source": [
    "rfr_01 = RandomForestRegressor( bootstrap= False ,n_jobs = -1, n_estimators=100,\n",
    "                               max_features='sqrt')"
   ]
  },
  {
   "cell_type": "code",
   "execution_count": 102,
   "metadata": {
    "collapsed": false
   },
   "outputs": [
    {
     "data": {
      "text/plain": [
       "RandomForestRegressor(bootstrap=False, criterion='mse', max_depth=None,\n",
       "           max_features='sqrt', max_leaf_nodes=None,\n",
       "           min_impurity_split=1e-07, min_samples_leaf=1,\n",
       "           min_samples_split=2, min_weight_fraction_leaf=0.0,\n",
       "           n_estimators=100, n_jobs=-1, oob_score=False, random_state=None,\n",
       "           verbose=0, warm_start=False)"
      ]
     },
     "execution_count": 102,
     "metadata": {},
     "output_type": "execute_result"
    }
   ],
   "source": [
    "rfr_01.fit(X_train_01, y_train_01)"
   ]
  },
  {
   "cell_type": "markdown",
   "metadata": {},
   "source": [
    "### r2_score on validation data:"
   ]
  },
  {
   "cell_type": "code",
   "execution_count": 103,
   "metadata": {
    "collapsed": false
   },
   "outputs": [],
   "source": [
    "rfr_val_predict_01 = rfr_01.predict(X_val_01)"
   ]
  },
  {
   "cell_type": "code",
   "execution_count": 104,
   "metadata": {
    "collapsed": false
   },
   "outputs": [
    {
     "name": "stdout",
     "output_type": "stream",
     "text": [
      "0.762190681315\n"
     ]
    }
   ],
   "source": [
    "print r2_score(y_val_01, rfr_val_predict_01)"
   ]
  },
  {
   "cell_type": "markdown",
   "metadata": {},
   "source": [
    "Cross Validation:"
   ]
  },
  {
   "cell_type": "code",
   "execution_count": 147,
   "metadata": {
    "collapsed": true
   },
   "outputs": [],
   "source": [
    "#scores = cross_val_score(rfr_01, X_train_01, y_train_01, cv = 12, n_jobs = -1, )"
   ]
  },
  {
   "cell_type": "code",
   "execution_count": 148,
   "metadata": {
    "collapsed": false
   },
   "outputs": [
    {
     "name": "stdout",
     "output_type": "stream",
     "text": [
      "0.764957086096\n"
     ]
    }
   ],
   "source": [
    "#print(scores.mean())"
   ]
  },
  {
   "cell_type": "markdown",
   "metadata": {},
   "source": [
    "### r2_score on training data:"
   ]
  },
  {
   "cell_type": "code",
   "execution_count": 114,
   "metadata": {
    "collapsed": false
   },
   "outputs": [],
   "source": [
    "#rfr_train_predict_01 = rfr_01.predict(X_train_01)"
   ]
  },
  {
   "cell_type": "code",
   "execution_count": 115,
   "metadata": {
    "collapsed": false
   },
   "outputs": [
    {
     "name": "stdout",
     "output_type": "stream",
     "text": [
      "0.967810351194\n"
     ]
    }
   ],
   "source": [
    "#print r2_score(y_train_01, rfr_train_predict_01)"
   ]
  },
  {
   "cell_type": "code",
   "execution_count": null,
   "metadata": {
    "collapsed": true
   },
   "outputs": [],
   "source": []
  },
  {
   "cell_type": "markdown",
   "metadata": {},
   "source": [
    "## Cross Validation:"
   ]
  },
  {
   "cell_type": "code",
   "execution_count": 96,
   "metadata": {
    "collapsed": true
   },
   "outputs": [],
   "source": [
    "rfr_02 = RandomForestRegressor( bootstrap= True ,n_jobs = -1, n_estimators=100,\n",
    "                               max_features='sqrt')"
   ]
  },
  {
   "cell_type": "code",
   "execution_count": 98,
   "metadata": {
    "collapsed": true
   },
   "outputs": [],
   "source": [
    "#rfr_03 = RandomForestRegressor( bootstrap= False ,n_jobs = -1, n_estimators=100,\n",
    "#                               max_features='sqrt')"
   ]
  },
  {
   "cell_type": "code",
   "execution_count": 95,
   "metadata": {
    "collapsed": true
   },
   "outputs": [],
   "source": [
    "cv_range = range(2,21,2)\n",
    "#cv_range = [2, 3, 5, 10]\n",
    "#results_lr = []\n",
    "results_rfr = []"
   ]
  },
  {
   "cell_type": "code",
   "execution_count": 97,
   "metadata": {
    "collapsed": false
   },
   "outputs": [],
   "source": [
    "for cv_val in cv_range:\n",
    "    scores = cross_val_score(rfr_02, X_train_01, y_train_01, cv = cv_val, n_jobs = -1, )\n",
    "    results_rfr = np.append(results_rfr, scores.mean() )"
   ]
  },
  {
   "cell_type": "code",
   "execution_count": 100,
   "metadata": {
    "collapsed": false
   },
   "outputs": [
    {
     "name": "stdout",
     "output_type": "stream",
     "text": [
      "[ 0.7400576   0.75207288  0.75253182  0.75669077  0.75275371  0.75734145\n",
      "  0.75585546  0.75830266  0.75822007  0.75454049]\n"
     ]
    }
   ],
   "source": [
    "print(results_rfr)\n",
    "results_rfr_02 = results_rfr"
   ]
  },
  {
   "cell_type": "code",
   "execution_count": 142,
   "metadata": {
    "collapsed": false
   },
   "outputs": [
    {
     "data": {
      "image/png": "[encoded data removed]",
      "text/plain": [
       "<matplotlib.figure.Figure at 0x7f32925cd910>"
      ]
     },
     "metadata": {},
     "output_type": "display_data"
    }
   ],
   "source": [
    "plt.figure(1)\n",
    "plt.subplot(111)\n",
    "plt.plot(cv_range, results_rfr_02, label='rfr_02')\n",
    "plt.plot(cv_range, results_rfr_03, label='rfr_03')\n",
    "plt.title('cv_r2_score')\n",
    "plt.legend(loc='upper left')\n",
    "# plt.savefig('01.png',dpi=300,format='png')\n",
    "plt.show()\n",
    "#plt.close()"
   ]
  },
  {
   "cell_type": "code",
   "execution_count": null,
   "metadata": {
    "collapsed": true
   },
   "outputs": [],
   "source": []
  },
  {
   "cell_type": "markdown",
   "metadata": {},
   "source": [
    "## Use all data for training"
   ]
  },
  {
   "cell_type": "code",
   "execution_count": 155,
   "metadata": {
    "collapsed": true
   },
   "outputs": [],
   "source": [
    "y_01 = df_01['price']\n",
    "X_01 = df_01.drop(['price'], axis = 1)\n",
    "X_test_01 = df_test_01.drop(['id'], axis = 1)\n",
    "id_test_01 = df_test_01['id']"
   ]
  },
  {
   "cell_type": "code",
   "execution_count": 156,
   "metadata": {
    "collapsed": true
   },
   "outputs": [],
   "source": [
    "X_train_all, X_val_all, y_train_all, y_val_all =train_test_split(\n",
    "    X_01, y_01, test_size = 0., random_state = 222 )"
   ]
  },
  {
   "cell_type": "code",
   "execution_count": 157,
   "metadata": {
    "collapsed": true
   },
   "outputs": [],
   "source": [
    "X_train_all = vec.fit_transform(X_train_all.to_dict(orient = 'record'))"
   ]
  },
  {
   "cell_type": "code",
   "execution_count": 158,
   "metadata": {
    "collapsed": true
   },
   "outputs": [],
   "source": [
    "X_test_01 = vec.transform(X_test_01.to_dict(orient = 'record'))"
   ]
  },
  {
   "cell_type": "code",
   "execution_count": null,
   "metadata": {
    "collapsed": true
   },
   "outputs": [],
   "source": [
    "rfr_01 = RandomForestRegressor( bootstrap= False ,n_jobs = -1, n_estimators=5000,\n",
    "                               max_features='sqrt')"
   ]
  },
  {
   "cell_type": "code",
   "execution_count": 160,
   "metadata": {
    "collapsed": false
   },
   "outputs": [
    {
     "data": {
      "text/plain": [
       "RandomForestRegressor(bootstrap=False, criterion='mse', max_depth=None,\n",
       "           max_features='sqrt', max_leaf_nodes=None,\n",
       "           min_impurity_split=1e-07, min_samples_leaf=1,\n",
       "           min_samples_split=2, min_weight_fraction_leaf=0.0,\n",
       "           n_estimators=5000, n_jobs=-1, oob_score=False,\n",
       "           random_state=None, verbose=0, warm_start=False)"
      ]
     },
     "execution_count": 160,
     "metadata": {},
     "output_type": "execute_result"
    }
   ],
   "source": [
    "rfr_01.fit(X_train_all, y_train_all)"
   ]
  },
  {
   "cell_type": "code",
   "execution_count": 64,
   "metadata": {
    "collapsed": false
   },
   "outputs": [
    {
     "data": {
      "text/plain": [
       "0.77853715674459312"
      ]
     },
     "execution_count": 64,
     "metadata": {},
     "output_type": "execute_result"
    }
   ],
   "source": [
    "rfr_test_predict_01 = rfr_01.predict(X_test_01)"
   ]
  },
  {
   "cell_type": "markdown",
   "metadata": {},
   "source": [
    "## Create a csv file"
   ]
  },
  {
   "cell_type": "code",
   "execution_count": 226,
   "metadata": {
    "collapsed": true
   },
   "outputs": [],
   "source": [
    "rfr_result = pd.concat([df_test.id,  pd.DataFrame(rfr_test_predict_01)  ], axis=1)"
   ]
  },
  {
   "cell_type": "code",
   "execution_count": 227,
   "metadata": {
    "collapsed": true
   },
   "outputs": [],
   "source": [
    "rfr_result.columns = ['id','predict']\n",
    "rfr_result.id = rfr_result.id.apply(np.int64)"
   ]
  },
  {
   "cell_type": "code",
   "execution_count": 229,
   "metadata": {
    "collapsed": true
   },
   "outputs": [],
   "source": [
    "rfr_result.to_csv('submit_01.csv', index=False)"
   ]
  },
  {
   "cell_type": "code",
   "execution_count": null,
   "metadata": {
    "collapsed": true
   },
   "outputs": [],
   "source": []
  },
  {
   "cell_type": "code",
   "execution_count": null,
   "metadata": {
    "collapsed": true
   },
   "outputs": [],
   "source": []
  },
  {
   "cell_type": "markdown",
   "metadata": {},
   "source": [
    "## XGBoost (with best performance so far on this dataset)"
   ]
  },
  {
   "cell_type": "code",
   "execution_count": 105,
   "metadata": {
    "collapsed": false
   },
   "outputs": [],
   "source": [
    "import xgboost as xgb\n",
    "from xgboost.sklearn import XGBClassifier\n",
    "from sklearn import cross_validation, metrics   #Additional scklearn functions\n",
    "from sklearn.grid_search import GridSearchCV   #Perforing grid search"
   ]
  },
  {
   "cell_type": "code",
   "execution_count": 106,
   "metadata": {
    "collapsed": true
   },
   "outputs": [],
   "source": [
    "xgb_01 = xgb.XGBRegressor(base_score=0.5, colsample_bytree=0.9, gamma=0,\n",
    "                          learning_rate=0.075, max_depth=5, min_child_weight=1,\n",
    "                          missing=None, n_estimators=250, reg_alpha=0, reg_lambda=1,\n",
    "                          scale_pos_weight=1, subsample=0.9)"
   ]
  },
  {
   "cell_type": "code",
   "execution_count": null,
   "metadata": {
    "collapsed": true
   },
   "outputs": [],
   "source": [
    "##              Typical Parameter range:\n",
    "# gamma:                                        use 0 first\n",
    "# learning_rate: [0.01, 0.2]\n",
    "# min_child_weight:                use CV!      use 1 first\n",
    "# max_depth: [3, 10]               use CV!      use 5 first\n",
    "# subsample: [0.5, 0.9]                         use 0.8 first\n",
    "# colsample_bytree: [0.5, 0.9]                  use 0.8 first\n",
    "# scale_pos_weight: positive"
   ]
  },
  {
   "cell_type": "code",
   "execution_count": 107,
   "metadata": {
    "collapsed": false
   },
   "outputs": [
    {
     "data": {
      "text/plain": [
       "XGBRegressor(base_score=0.5, colsample_bylevel=1, colsample_bytree=0.9,\n",
       "       gamma=0, learning_rate=0.075, max_delta_step=0, max_depth=5,\n",
       "       min_child_weight=1, missing=None, n_estimators=250, nthread=-1,\n",
       "       objective='reg:linear', reg_alpha=0, reg_lambda=1,\n",
       "       scale_pos_weight=1, seed=0, silent=True, subsample=0.9)"
      ]
     },
     "execution_count": 107,
     "metadata": {},
     "output_type": "execute_result"
    }
   ],
   "source": [
    "xgb_01.fit(X_train_01, y_train_01)"
   ]
  },
  {
   "cell_type": "code",
   "execution_count": 108,
   "metadata": {
    "collapsed": false
   },
   "outputs": [
    {
     "name": "stdout",
     "output_type": "stream",
     "text": [
      "0.798642753443\n"
     ]
    }
   ],
   "source": [
    "xgb_val_predict_01 = xgb_01.predict(X_val_01)\n",
    "print r2_score(y_val_01, xgb_val_predict_01 )"
   ]
  },
  {
   "cell_type": "code",
   "execution_count": null,
   "metadata": {
    "collapsed": true
   },
   "outputs": [],
   "source": [
    "xgb_test_predict_01 = xgb_01.predict(X_test_01)\n",
    "# 0.803"
   ]
  },
  {
   "cell_type": "code",
   "execution_count": null,
   "metadata": {
    "collapsed": true
   },
   "outputs": [],
   "source": [
    "param_01 = {'max_depth':range(3,5,2), 'min_child_weight':range(1,3,2)}\n",
    "gsearch_01 = GridSearchCV(\n",
    "   estimator = xgb.XGBRegressor(base_score=0.5, colsample_bytree=0.8, gamma=0,\n",
    "                            learning_rate=0.1, missing=None, n_estimators=500,\n",
    "                            reg_alpha=0, reg_lambda=1, scale_pos_weight=1, subsample=0.8),   \n",
    "   param_grid = param_01, scoring='mean_squared_error', n_jobs=-1, iid=True, cv=5\n",
    "                         )"
   ]
  },
  {
   "cell_type": "code",
   "execution_count": null,
   "metadata": {
    "collapsed": true
   },
   "outputs": [],
   "source": [
    "gsearch_01.fit(X_train_01, y_train_01)\n",
    "gsearch_01.grid_scores_, gsearch_01.best_params_, gsearch_01.best_score_"
   ]
  },
  {
   "cell_type": "code",
   "execution_count": null,
   "metadata": {
    "collapsed": true
   },
   "outputs": [],
   "source": []
  },
  {
   "cell_type": "code",
   "execution_count": null,
   "metadata": {
    "collapsed": true
   },
   "outputs": [],
   "source": []
  },
  {
   "cell_type": "code",
   "execution_count": null,
   "metadata": {
    "collapsed": true
   },
   "outputs": [],
   "source": []
  },
  {
   "cell_type": "markdown",
   "metadata": {
    "collapsed": true
   },
   "source": [
    "## Prepare train/val/test data for  SVR"
   ]
  },
  {
   "cell_type": "code",
   "execution_count": 116,
   "metadata": {
    "collapsed": true
   },
   "outputs": [],
   "source": [
    "y_01 = df_01['price']\n",
    "X_01 = df_01.drop(['price'], axis = 1)\n",
    "X_test_01 = df_test_01.drop(['id'], axis = 1)\n",
    "id_test_01 = df_test_01['id']"
   ]
  },
  {
   "cell_type": "code",
   "execution_count": 117,
   "metadata": {
    "collapsed": false
   },
   "outputs": [],
   "source": [
    "list_categ =[]\n",
    "list_num =[]\n",
    "for name in X_01.columns:\n",
    "    if type(df[name][0])==str:\n",
    "        list_categ.append(name)\n",
    "    else:\n",
    "        list_num.append(name)\n",
    "        df[name]=df[name].apply(np.float64)\n",
    "#    print(name, type(df[name][0]))\n",
    "    \n",
    "#y_01 = y_01.apply(np.float64)"
   ]
  },
  {
   "cell_type": "code",
   "execution_count": 118,
   "metadata": {
    "collapsed": false
   },
   "outputs": [],
   "source": [
    "#print(list_categ)\n",
    "#print(list_num)"
   ]
  },
  {
   "cell_type": "code",
   "execution_count": 119,
   "metadata": {
    "collapsed": true
   },
   "outputs": [],
   "source": [
    "X_01_num = X_01.drop(list_categ, axis = 1)\n",
    "X_01_cate = X_01.drop(list_num, axis = 1)\n",
    "X_test_01_num = X_test_01.drop(list_categ, axis = 1)\n",
    "X_test_01_cate = X_test_01.drop(list_num, axis = 1)"
   ]
  },
  {
   "cell_type": "code",
   "execution_count": 120,
   "metadata": {
    "collapsed": false
   },
   "outputs": [],
   "source": [
    "ss_X = StandardScaler()\n",
    "ss_y = StandardScaler()"
   ]
  },
  {
   "cell_type": "code",
   "execution_count": 121,
   "metadata": {
    "collapsed": false
   },
   "outputs": [
    {
     "name": "stderr",
     "output_type": "stream",
     "text": [
      "/usr/local/lib/python2.7/dist-packages/sklearn/preprocessing/data.py:586: DeprecationWarning: Passing 1d arrays as data is deprecated in 0.17 and will raise ValueError in 0.19. Reshape your data either using X.reshape(-1, 1) if your data has a single feature or X.reshape(1, -1) if it contains a single sample.\n",
      "  warnings.warn(DEPRECATION_MSG_1D, DeprecationWarning)\n",
      "/usr/local/lib/python2.7/dist-packages/sklearn/preprocessing/data.py:649: DeprecationWarning: Passing 1d arrays as data is deprecated in 0.17 and will raise ValueError in 0.19. Reshape your data either using X.reshape(-1, 1) if your data has a single feature or X.reshape(1, -1) if it contains a single sample.\n",
      "  warnings.warn(DEPRECATION_MSG_1D, DeprecationWarning)\n"
     ]
    }
   ],
   "source": [
    "X_01_num = ss_X.fit_transform(X_01_num)\n",
    "X_test_01_num = ss_X.transform(X_test_01_num)\n",
    "y_01 = ss_y.fit_transform(y_01)"
   ]
  },
  {
   "cell_type": "code",
   "execution_count": 122,
   "metadata": {
    "collapsed": false
   },
   "outputs": [],
   "source": [
    "X_01 = pd.concat([pd.DataFrame(X_01_num),  X_01_cate  ], axis=1)\n",
    "X_test_01 = pd.concat([pd.DataFrame(X_test_01_num),  X_test_01_cate  ], axis=1)\n",
    "X_01.columns = list_num + list_categ\n",
    "X_test_01.columns = list_num + list_categ"
   ]
  },
  {
   "cell_type": "code",
   "execution_count": 123,
   "metadata": {
    "collapsed": false
   },
   "outputs": [],
   "source": [
    "X_train_01, X_val_01, y_train_01, y_val_01 =train_test_split(\n",
    "    X_01, y_01, test_size = 0.3, random_state = 222 )"
   ]
  },
  {
   "cell_type": "code",
   "execution_count": 124,
   "metadata": {
    "collapsed": true
   },
   "outputs": [],
   "source": [
    "vec = DictVectorizer()"
   ]
  },
  {
   "cell_type": "code",
   "execution_count": 125,
   "metadata": {
    "collapsed": true
   },
   "outputs": [],
   "source": [
    "X_train_01 = vec.fit_transform(X_train_01.to_dict(orient = 'record'))\n",
    "X_test_01 = vec.transform(X_test_01.to_dict(orient = 'record'))"
   ]
  },
  {
   "cell_type": "code",
   "execution_count": 126,
   "metadata": {
    "collapsed": false
   },
   "outputs": [],
   "source": [
    "X_val_01 = vec.transform(X_val_01.to_dict(orient = 'record'))"
   ]
  },
  {
   "cell_type": "markdown",
   "metadata": {},
   "source": [
    "## SVR"
   ]
  },
  {
   "cell_type": "code",
   "execution_count": 127,
   "metadata": {
    "collapsed": true
   },
   "outputs": [],
   "source": [
    "svr_01 = SVR( kernel = 'rbf', C = 2.0, epsilon= 0.1,  gamma = 0.09)"
   ]
  },
  {
   "cell_type": "code",
   "execution_count": 128,
   "metadata": {
    "collapsed": false
   },
   "outputs": [
    {
     "data": {
      "text/plain": [
       "SVR(C=2.0, cache_size=200, coef0=0.0, degree=3, epsilon=0.1, gamma=0.09,\n",
       "  kernel='rbf', max_iter=-1, shrinking=True, tol=0.001, verbose=False)"
      ]
     },
     "execution_count": 128,
     "metadata": {},
     "output_type": "execute_result"
    }
   ],
   "source": [
    "svr_01.fit(X_train_01, y_train_01)"
   ]
  },
  {
   "cell_type": "code",
   "execution_count": 256,
   "metadata": {
    "collapsed": true
   },
   "outputs": [],
   "source": [
    "#scores = cross_val_score(svr_01, X_train_01, y_train_01, cv = 10, n_jobs = -1, )\n",
    "#print(scores.mean())"
   ]
  },
  {
   "cell_type": "markdown",
   "metadata": {
    "collapsed": true
   },
   "source": [
    "### r2_score on validation data:"
   ]
  },
  {
   "cell_type": "code",
   "execution_count": 129,
   "metadata": {
    "collapsed": false
   },
   "outputs": [],
   "source": [
    "svr_val_normalizedVal_01 = svr_01.predict(X_val_01)"
   ]
  },
  {
   "cell_type": "code",
   "execution_count": 130,
   "metadata": {
    "collapsed": false
   },
   "outputs": [
    {
     "data": {
      "text/plain": [
       "0.79908411254367451"
      ]
     },
     "execution_count": 130,
     "metadata": {},
     "output_type": "execute_result"
    }
   ],
   "source": [
    "r2_score(y_val_01, svr_val_normalizedVal_01 )"
   ]
  },
  {
   "cell_type": "markdown",
   "metadata": {},
   "source": [
    "### r2_score on training data:"
   ]
  },
  {
   "cell_type": "code",
   "execution_count": 131,
   "metadata": {
    "collapsed": false
   },
   "outputs": [
    {
     "data": {
      "text/plain": [
       "0.87294438414229603"
      ]
     },
     "execution_count": 131,
     "metadata": {},
     "output_type": "execute_result"
    }
   ],
   "source": [
    "#svr_train_normalizedPredict_01 = svr_01.predict(X_train_01)\n",
    "#r2_score(y_train_01, svr_train_normalizedPredict_01 )"
   ]
  },
  {
   "cell_type": "markdown",
   "metadata": {
    "collapsed": false
   },
   "source": [
    "### r2_score on testing data:"
   ]
  },
  {
   "cell_type": "code",
   "execution_count": 83,
   "metadata": {
    "collapsed": false
   },
   "outputs": [
    {
     "data": {
      "text/plain": [
       "0.79744427820522124"
      ]
     },
     "execution_count": 83,
     "metadata": {},
     "output_type": "execute_result"
    }
   ],
   "source": [
    "#svr_test_normalizedPredict_01 = svr_01.predict(X_test_01)"
   ]
  },
  {
   "cell_type": "code",
   "execution_count": 84,
   "metadata": {
    "collapsed": true
   },
   "outputs": [],
   "source": [
    "svr_test_predict_01 = ss_y.inverse_transform(svr_test_normalizedPredict_01)"
   ]
  },
  {
   "cell_type": "code",
   "execution_count": 260,
   "metadata": {
    "collapsed": true
   },
   "outputs": [],
   "source": [
    "combine_predict = (svr_test_predict_01 + rfr_test_predict_01)/2.0"
   ]
  },
  {
   "cell_type": "code",
   "execution_count": 85,
   "metadata": {
    "collapsed": true
   },
   "outputs": [],
   "source": [
    "combine_predict = (svr_test_predict_01 + xgb_test_predict_01)/2.0"
   ]
  },
  {
   "cell_type": "code",
   "execution_count": 132,
   "metadata": {
    "collapsed": false
   },
   "outputs": [],
   "source": [
    "# 0.8092"
   ]
  },
  {
   "cell_type": "code",
   "execution_count": null,
   "metadata": {
    "collapsed": true
   },
   "outputs": [],
   "source": []
  },
  {
   "cell_type": "markdown",
   "metadata": {},
   "source": [
    "## Cross Validation"
   ]
  },
  {
   "cell_type": "code",
   "execution_count": 198,
   "metadata": {
    "collapsed": true
   },
   "outputs": [],
   "source": [
    "#svr_02 = SVR( kernel = 'rbf', C = 5.0, epsilon= 0.1,  gamma = 0.03)"
   ]
  },
  {
   "cell_type": "code",
   "execution_count": 135,
   "metadata": {
    "collapsed": true
   },
   "outputs": [],
   "source": [
    "svr_03 = SVR( kernel = 'rbf', C = 10.0, epsilon= 0.1,  gamma = 0.1)"
   ]
  },
  {
   "cell_type": "code",
   "execution_count": 133,
   "metadata": {
    "collapsed": true
   },
   "outputs": [],
   "source": [
    "cv_range = range(2,21,2)\n",
    "#cv_range = [2, 3, 5, 10]\n",
    "results_svr = []"
   ]
  },
  {
   "cell_type": "code",
   "execution_count": 136,
   "metadata": {
    "collapsed": false
   },
   "outputs": [],
   "source": [
    "for cv_val in cv_range:\n",
    "    scores = cross_val_score(svr_03, X_train_01, y_train_01, cv = cv_val, n_jobs = -1, )\n",
    "    results_svr = np.append(results_svr, scores.mean() )"
   ]
  },
  {
   "cell_type": "code",
   "execution_count": 139,
   "metadata": {
    "collapsed": false
   },
   "outputs": [],
   "source": [
    "# print(results_svr)\n",
    "results_svr_03 = results_svr"
   ]
  },
  {
   "cell_type": "code",
   "execution_count": 207,
   "metadata": {
    "collapsed": false
   },
   "outputs": [
    {
     "data": {
      "image/png": "[encoded data removed]",
      "text/plain": [
       "<matplotlib.figure.Figure at 0x7f32924c3110>"
      ]
     },
     "metadata": {},
     "output_type": "display_data"
    }
   ],
   "source": [
    "plt.figure(2)\n",
    "plt.subplot(111)\n",
    "plt.plot(cv_range, results_svr_02, label='svr_02')\n",
    "plt.plot(cv_range, results_svr_03, label='svr_03')\n",
    "plt.title('cv_r2_score')\n",
    "plt.legend(loc='upper left')\n",
    "# plt.savefig('01.png',dpi=300,format='png')\n",
    "plt.show()\n",
    "#plt.close()"
   ]
  },
  {
   "cell_type": "markdown",
   "metadata": {},
   "source": [
    "### --->           10-fold cv seems to be ok"
   ]
  },
  {
   "cell_type": "markdown",
   "metadata": {},
   "source": [
    "## Search for better parameters"
   ]
  },
  {
   "cell_type": "code",
   "execution_count": 238,
   "metadata": {
    "collapsed": false
   },
   "outputs": [
    {
     "name": "stdout",
     "output_type": "stream",
     "text": [
      "(2.0, 0.09, 0.79425314675064185)\n"
     ]
    }
   ],
   "source": [
    "C_range = [1.5, 2.0, 2.5, 3, 3.5]\n",
    "gamma_range = [0.05, 0.07, 0.09, 0.11, 0.13, 0.15]\n",
    "results_para_svr = []\n",
    "best_C = 0.\n",
    "best_gamma = 0.\n",
    "max_score = 0.\n",
    "for C_val in C_range:\n",
    "    for gamma_val in gamma_range:\n",
    "        svr_search = SVR( kernel = 'rbf', C = C_val, epsilon= 0.1,  gamma = gamma_val)\n",
    "        scores = cross_val_score(svr_search, X_train_01, y_train_01, cv = 12 , n_jobs = -1, )\n",
    "        mean_score = scores.mean()\n",
    "        if  mean_score > max_score:\n",
    "            max_score = mean_score\n",
    "            best_C = C_val\n",
    "            best_gamma = gamma_val\n",
    "        results_para_svr = np.append( results_para_svr, mean_score )\n",
    "print(best_C, best_gamma, max_score)"
   ]
  },
  {
   "cell_type": "markdown",
   "metadata": {},
   "source": [
    "To make an array with :    \n",
    "row_index <===>  C_val    \n",
    "column_undex <===>  gamma_val    "
   ]
  },
  {
   "cell_type": "code",
   "execution_count": 239,
   "metadata": {
    "collapsed": true
   },
   "outputs": [],
   "source": [
    "results_para_svr = np.reshape(results_para_svr, (len(C_range), len(gamma_range))  )"
   ]
  },
  {
   "cell_type": "code",
   "execution_count": 138,
   "metadata": {
    "collapsed": false
   },
   "outputs": [],
   "source": [
    "#print(results_para_svr)"
   ]
  },
  {
   "cell_type": "markdown",
   "metadata": {},
   "source": [
    "### optimal parameters :  (2.0, 0.09, 0.79425314675064185)"
   ]
  },
  {
   "cell_type": "code",
   "execution_count": 241,
   "metadata": {
    "collapsed": false
   },
   "outputs": [
    {
     "data": {
      "image/png": "[encoded data removed]",
      "text/plain": [
       "<matplotlib.figure.Figure at 0x7f3283a74d10>"
      ]
     },
     "metadata": {},
     "output_type": "display_data"
    }
   ],
   "source": [
    "plt.figure(6)\n",
    "plt.subplot(111)\n",
    "plt.plot(gamma_range, results_para_svr[0,:], label='C = 1.5')\n",
    "plt.plot(gamma_range, results_para_svr[1,:], label='C = 2.0')\n",
    "plt.plot(gamma_range, results_para_svr[2,:], label='C = 2.5')\n",
    "plt.plot(gamma_range, results_para_svr[3,:], label='C = 3.0')\n",
    "plt.plot(gamma_range, results_para_svr[4,:], label='C = 3.5')\n",
    "plt.title('cv_r2_score  cv=12')\n",
    "plt.legend(loc='lower right')\n",
    "# plt.savefig('01.png',dpi=300,format='png')\n",
    "plt.show()\n",
    "#plt.close()"
   ]
  },
  {
   "cell_type": "markdown",
   "metadata": {},
   "source": [
    "## Create a csv file"
   ]
  },
  {
   "cell_type": "code",
   "execution_count": 318,
   "metadata": {
    "collapsed": true
   },
   "outputs": [],
   "source": [
    "comb_result = pd.concat([df_test.id,  pd.DataFrame(combine_predict)  ], axis=1)\n",
    "comb_result.columns = ['id','predict']\n",
    "comb_result.id = comb_result.id.apply(np.int64)\n",
    "comb_result.to_csv('submit_03.csv', index=False)"
   ]
  },
  {
   "cell_type": "code",
   "execution_count": null,
   "metadata": {
    "collapsed": true
   },
   "outputs": [],
   "source": []
  },
  {
   "cell_type": "code",
   "execution_count": null,
   "metadata": {
    "collapsed": true
   },
   "outputs": [],
   "source": []
  },
  {
   "cell_type": "markdown",
   "metadata": {
    "collapsed": true
   },
   "source": [
    "## A shallow Neural Network"
   ]
  },
  {
   "cell_type": "code",
   "execution_count": 265,
   "metadata": {
    "collapsed": false
   },
   "outputs": [
    {
     "name": "stderr",
     "output_type": "stream",
     "text": [
      "Using TensorFlow backend.\n"
     ]
    }
   ],
   "source": [
    "%matplotlib inline\n",
    "from __future__ import division,print_function\n",
    "import os, json\n",
    "from glob import glob\n",
    "import scipy\n",
    "from sklearn.preprocessing import OneHotEncoder\n",
    "from sklearn.metrics import confusion_matrix\n",
    "np.set_printoptions(precision=4, linewidth=100)\n",
    "import utils; reload(utils)\n",
    "from utils import plots, get_batches, plot_confusion_matrix, get_data"
   ]
  },
  {
   "cell_type": "code",
   "execution_count": 266,
   "metadata": {
    "collapsed": true
   },
   "outputs": [],
   "source": [
    "from numpy import genfromtxt\n",
    "from numpy.random import random, permutation\n",
    "from keras.utils import np_utils\n",
    "from keras.utils.data_utils import get_file"
   ]
  },
  {
   "cell_type": "code",
   "execution_count": 267,
   "metadata": {
    "collapsed": true
   },
   "outputs": [],
   "source": [
    "from keras.models import Sequential\n",
    "from keras.layers import Input\n",
    "from keras.layers.core import Dense, Activation, Dropout, Flatten, Lambda\n",
    "from keras.optimizers import SGD, Adam, RMSprop, Adagrad\n",
    "from sklearn.utils import shuffle\n",
    "from keras.layers.advanced_activations import LeakyReLU\n",
    "from keras.regularizers import l1,l2\n",
    "from keras.layers.convolutional import Convolution2D, MaxPooling2D, ZeroPadding2D\n",
    "from keras.callbacks import EarlyStopping\n",
    "import matplotlib.pyplot as plt\n",
    "from keras.layers.normalization import BatchNormalization"
   ]
  },
  {
   "cell_type": "code",
   "execution_count": 100,
   "metadata": {
    "collapsed": true
   },
   "outputs": [],
   "source": [
    "#from scipy.sparse import csr_matrix"
   ]
  },
  {
   "cell_type": "code",
   "execution_count": 268,
   "metadata": {
    "collapsed": true
   },
   "outputs": [],
   "source": [
    "def NN_r2_score(y_true, y_pred):\n",
    "    SS_res =  np.sum(np.square(y_true - y_pred)) \n",
    "    SS_tot = np.sum(np.square(y_true - np.mean(y_true))) \n",
    "    return ( 1 - SS_res/(SS_tot+0.0001) )"
   ]
  },
  {
   "cell_type": "markdown",
   "metadata": {},
   "source": [
    "## Prepare train/val/test data for NN"
   ]
  },
  {
   "cell_type": "code",
   "execution_count": null,
   "metadata": {
    "collapsed": true
   },
   "outputs": [],
   "source": [
    "#batches = get_batches(path+'train', shuffle=False, batch_size=batch_size)\n",
    "#val_batches = get_batches(path+'valid', shuffle=False, batch_size=batch_size)"
   ]
  },
  {
   "cell_type": "code",
   "execution_count": 269,
   "metadata": {
    "collapsed": false
   },
   "outputs": [],
   "source": [
    "##y_01 = ss_y.fit_transform(y_01)\n",
    "##y_test_01 = ss_y.transform(AN_list)\n",
    "X_01 = pd.concat([pd.DataFrame(X_01_num),  X_01_cate  ], axis=1)\n",
    "X_test_01 = pd.concat([pd.DataFrame(X_test_01_num),  X_test_01_cate  ], axis=1)\n",
    "X_01.columns = list_num + list_categ\n",
    "X_test_01.columns = list_num + list_categ"
   ]
  },
  {
   "cell_type": "code",
   "execution_count": 271,
   "metadata": {
    "collapsed": true
   },
   "outputs": [],
   "source": [
    "X_train_01, X_val_01, y_train_01, y_val_01 =train_test_split(\n",
    "    X_01, y_01, test_size = 0.3, random_state = 222 )"
   ]
  },
  {
   "cell_type": "code",
   "execution_count": 273,
   "metadata": {
    "collapsed": false
   },
   "outputs": [],
   "source": [
    "X_train_01 = vec.fit_transform(X_train_01.to_dict(orient = 'record'))\n",
    "X_test_01 = vec.transform(X_test_01.to_dict(orient = 'record'))"
   ]
  },
  {
   "cell_type": "code",
   "execution_count": 274,
   "metadata": {
    "collapsed": true
   },
   "outputs": [],
   "source": [
    "X_val_01 = vec.transform(X_val_01.to_dict(orient = 'record'))"
   ]
  },
  {
   "cell_type": "code",
   "execution_count": 276,
   "metadata": {
    "collapsed": false
   },
   "outputs": [],
   "source": [
    "train_x = X_train_01.toarray()\n",
    "train_y = y_train_01\n",
    "test_x = X_test_01.toarray()\n",
    "#test_y = y_test_01 "
   ]
  },
  {
   "cell_type": "code",
   "execution_count": 277,
   "metadata": {
    "collapsed": true
   },
   "outputs": [],
   "source": [
    "val_x = X_val_01.toarray()\n",
    "val_y = y_val_01"
   ]
  },
  {
   "cell_type": "code",
   "execution_count": 278,
   "metadata": {
    "collapsed": false,
    "scrolled": true
   },
   "outputs": [
    {
     "name": "stdout",
     "output_type": "stream",
     "text": [
      "(3428, 62)\n",
      "(3428,)\n",
      "(5000, 62)\n",
      "(5000,)\n"
     ]
    }
   ],
   "source": [
    "print(train_x.shape) \n",
    "print(train_y.shape )\n",
    "print(test_x.shape) \n",
    "print(test_y.shape) "
   ]
  },
  {
   "cell_type": "code",
   "execution_count": null,
   "metadata": {
    "collapsed": true
   },
   "outputs": [],
   "source": []
  },
  {
   "cell_type": "code",
   "execution_count": 726,
   "metadata": {
    "collapsed": true
   },
   "outputs": [],
   "source": [
    "#model = Sequential()\n",
    "#model.add(Dense(1, activation='linear',  input_shape=(train_x.shape[1],) ,\n",
    "#                         W_regularizer = l2(lambda_w )   ) )"
   ]
  },
  {
   "cell_type": "code",
   "execution_count": 496,
   "metadata": {
    "collapsed": true
   },
   "outputs": [],
   "source": [
    "#model = Sequential()\n",
    "#model.add(   Dense(256, activation='relu',  input_shape=(train_x.shape[1],) ,\n",
    "#                         W_regularizer = l2(lambda_w )   )   )\n",
    "#model.add(BatchNormalization())\n",
    "#model.add(Dropout(p))\n",
    "#model.add(Dense(1, activation='linear', name='output',\n",
    "#                         W_regularizer = l2(lambda_w )   )  )"
   ]
  },
  {
   "cell_type": "markdown",
   "metadata": {},
   "source": [
    "##  Use the NN model below:"
   ]
  },
  {
   "cell_type": "code",
   "execution_count": 279,
   "metadata": {
    "collapsed": true
   },
   "outputs": [],
   "source": [
    "lambda_w = 0.00\n",
    "p = 0.4\n",
    "earlyStopping=EarlyStopping(monitor = 'val_loss', patience = 3)"
   ]
  },
  {
   "cell_type": "code",
   "execution_count": 280,
   "metadata": {
    "collapsed": false
   },
   "outputs": [],
   "source": [
    "model = Sequential()\n",
    "model.add(   Dense(512, activation='relu',  input_shape=(train_x.shape[1],) ,\n",
    "                         W_regularizer = l2(lambda_w )   )   )\n",
    "model.add(BatchNormalization())\n",
    "model.add(Dropout(p))\n",
    "model.add(   Dense(32, activation=  'relu' ,\n",
    "                         W_regularizer = l2(lambda_w )   )  )\n",
    "model.add(BatchNormalization())\n",
    "model.add(Dropout(p))\n",
    "model.add(Dense(1, activation='linear', name='output',\n",
    "                         W_regularizer = l2(lambda_w )   )  )"
   ]
  },
  {
   "cell_type": "code",
   "execution_count": 281,
   "metadata": {
    "collapsed": true
   },
   "outputs": [],
   "source": [
    "model.compile(optimizer=   Adam(lr=0.001, beta_1=0.9, beta_2=0.999,\n",
    "                                  epsilon=1e-08, decay=0.0 ),\n",
    "                                  loss='mse', metrics=['mse'])"
   ]
  },
  {
   "cell_type": "code",
   "execution_count": 282,
   "metadata": {
    "collapsed": false,
    "scrolled": true
   },
   "outputs": [
    {
     "name": "stdout",
     "output_type": "stream",
     "text": [
      "Train on 3085 samples, validate on 343 samples\n",
      "Epoch 1/20\n",
      "3085/3085 [==============================] - 1s - loss: 2.0761 - mean_squared_error: 2.0761 - val_loss: 0.6481 - val_mean_squared_error: 0.6481\n",
      "Epoch 2/20\n",
      "3085/3085 [==============================] - 0s - loss: 1.2198 - mean_squared_error: 1.2198 - val_loss: 0.5660 - val_mean_squared_error: 0.5660\n",
      "Epoch 3/20\n",
      "3085/3085 [==============================] - 0s - loss: 0.8181 - mean_squared_error: 0.8181 - val_loss: 0.3943 - val_mean_squared_error: 0.3943\n",
      "Epoch 4/20\n",
      "3085/3085 [==============================] - 0s - loss: 0.6813 - mean_squared_error: 0.6813 - val_loss: 0.3036 - val_mean_squared_error: 0.3036\n",
      "Epoch 5/20\n",
      "3085/3085 [==============================] - 0s - loss: 0.5888 - mean_squared_error: 0.5888 - val_loss: 0.2524 - val_mean_squared_error: 0.2524\n",
      "Epoch 6/20\n",
      "3085/3085 [==============================] - 0s - loss: 0.4811 - mean_squared_error: 0.4811 - val_loss: 0.2142 - val_mean_squared_error: 0.2142\n",
      "Epoch 7/20\n",
      "3085/3085 [==============================] - 0s - loss: 0.4280 - mean_squared_error: 0.4280 - val_loss: 0.2085 - val_mean_squared_error: 0.2085\n",
      "Epoch 8/20\n",
      "3085/3085 [==============================] - 0s - loss: 0.3838 - mean_squared_error: 0.3838 - val_loss: 0.2075 - val_mean_squared_error: 0.2075\n",
      "Epoch 9/20\n",
      "3085/3085 [==============================] - 0s - loss: 0.3390 - mean_squared_error: 0.3390 - val_loss: 0.1938 - val_mean_squared_error: 0.1938\n",
      "Epoch 10/20\n",
      "3085/3085 [==============================] - 0s - loss: 0.3507 - mean_squared_error: 0.3507 - val_loss: 0.1982 - val_mean_squared_error: 0.1982\n",
      "Epoch 11/20\n",
      "3085/3085 [==============================] - 0s - loss: 0.3170 - mean_squared_error: 0.3170 - val_loss: 0.1978 - val_mean_squared_error: 0.1978\n",
      "Epoch 12/20\n",
      "3085/3085 [==============================] - 0s - loss: 0.3200 - mean_squared_error: 0.3200 - val_loss: 0.1966 - val_mean_squared_error: 0.1966\n",
      "Epoch 13/20\n",
      "3085/3085 [==============================] - 0s - loss: 0.2884 - mean_squared_error: 0.2884 - val_loss: 0.1934 - val_mean_squared_error: 0.1934\n",
      "Epoch 14/20\n",
      "3085/3085 [==============================] - 0s - loss: 0.2968 - mean_squared_error: 0.2968 - val_loss: 0.1906 - val_mean_squared_error: 0.1906\n",
      "Epoch 15/20\n",
      "3085/3085 [==============================] - 0s - loss: 0.2790 - mean_squared_error: 0.2790 - val_loss: 0.1992 - val_mean_squared_error: 0.1992\n",
      "Epoch 16/20\n",
      "3085/3085 [==============================] - 0s - loss: 0.2827 - mean_squared_error: 0.2827 - val_loss: 0.1943 - val_mean_squared_error: 0.1943\n",
      "Epoch 17/20\n",
      "3085/3085 [==============================] - 0s - loss: 0.2690 - mean_squared_error: 0.2690 - val_loss: 0.1935 - val_mean_squared_error: 0.1935\n",
      "Epoch 18/20\n",
      "3085/3085 [==============================] - 0s - loss: 0.2654 - mean_squared_error: 0.2654 - val_loss: 0.1954 - val_mean_squared_error: 0.1954\n"
     ]
    }
   ],
   "source": [
    "model_history = model.fit( train_x, train_y, nb_epoch= 20,\n",
    "                                                    batch_size=  32 ,\n",
    "                                                    verbose= 1,\n",
    "                                                    shuffle=True,\n",
    "                                                    validation_split = 0.1,       \n",
    "                                                    callbacks =[earlyStopping]    )    "
   ]
  },
  {
   "cell_type": "code",
   "execution_count": 284,
   "metadata": {
    "collapsed": true
   },
   "outputs": [],
   "source": [
    "loss = model_history.history.get('loss')\n",
    "#mse = model_history.history.get('mean_squared_error')\n",
    "val_loss = model_history.history.get('val_loss')\n",
    "#val_mse = model_history.history.get('val_mean_squared_error')"
   ]
  },
  {
   "cell_type": "markdown",
   "metadata": {},
   "source": [
    "## Plot loss/val_loss vs. epoch"
   ]
  },
  {
   "cell_type": "code",
   "execution_count": 286,
   "metadata": {
    "collapsed": false,
    "scrolled": true
   },
   "outputs": [
    {
     "data": {
      "image/png": "[encoded data removed]",
      "text/plain": [
       "<matplotlib.figure.Figure at 0x7f3297f679d0>"
      ]
     },
     "metadata": {},
     "output_type": "display_data"
    }
   ],
   "source": [
    "plt.figure(0)\n",
    "plt.subplot(111)\n",
    "plt.plot(range(len(loss)), loss,label='loss')\n",
    "plt.plot(range(len(val_loss)), val_loss, label='val_loss')\n",
    "plt.title('Loss')\n",
    "plt.legend(loc='upper left')\n",
    "#plt.subplot(122)\n",
    "#plt.plot(range(len(acc)), acc,label='accuracy')\n",
    "#plt.plot(range(len(val_acc)), val_acc, label='val_accuracy')\n",
    "#plt.title('Accuracy')\n",
    "plt.show()\n",
    "#plt.savefig('01.png',dpi=300,format='png')\n",
    "#plt.close()"
   ]
  },
  {
   "cell_type": "markdown",
   "metadata": {},
   "source": [
    "### r2_score on training data:"
   ]
  },
  {
   "cell_type": "code",
   "execution_count": 287,
   "metadata": {
    "collapsed": false
   },
   "outputs": [
    {
     "name": "stdout",
     "output_type": "stream",
     "text": [
      "0.823883122424\n"
     ]
    }
   ],
   "source": [
    "NN_y_normalizedpredict = model.predict(train_x)\n",
    "NN_y_normalizedpredict = np.reshape(NN_y_normalizedpredict, (train_x.shape[0], )  )\n",
    "score_train = NN_r2_score(train_y, NN_y_normalizedpredict)\n",
    "print(score_train)"
   ]
  },
  {
   "cell_type": "markdown",
   "metadata": {},
   "source": [
    "### r2_score on validation data:"
   ]
  },
  {
   "cell_type": "code",
   "execution_count": 290,
   "metadata": {
    "collapsed": false
   },
   "outputs": [
    {
     "name": "stdout",
     "output_type": "stream",
     "text": [
      "0.758691692489\n"
     ]
    }
   ],
   "source": [
    "y_NN_val_predict = model.predict(val_x)\n",
    "y_NN_val_predict = np.reshape(y_NN_val_predict, (val_y.shape[0], )  )\n",
    "score_val = NN_r2_score(val_y, y_NN_val_predict)\n",
    "print (score_val)"
   ]
  },
  {
   "cell_type": "markdown",
   "metadata": {},
   "source": [
    "### r2_score on test data:"
   ]
  },
  {
   "cell_type": "code",
   "execution_count": null,
   "metadata": {
    "collapsed": false
   },
   "outputs": [],
   "source": [
    "NN_y_normalizedPredict_test = model.predict(test_x)\n",
    "NN_y_normalizedPredict_test = np.reshape(NN_y_normalizedPredict_test, (test_x.shape[0], )  )\n",
    "#score_test = NN_r2_score(test_y, NN_y_normalizedPredict_test )\n",
    "#NN_y_predict_01 = ss_y.inverse_transform(NN_y_normalizedPredict_01)                         \n",
    "#NN_y_predict_01 = np.reshape(NN_y_predict_01, (test_x.shape[0], ) )"
   ]
  },
  {
   "cell_type": "code",
   "execution_count": 289,
   "metadata": {
    "collapsed": false
   },
   "outputs": [
    {
     "name": "stdout",
     "output_type": "stream",
     "text": [
      "0.788750117448\n"
     ]
    }
   ],
   "source": [
    "NN_y_Predict_test = ss_y.inverse_transform(NN_y_normalizedPredict_test)"
   ]
  },
  {
   "cell_type": "markdown",
   "metadata": {},
   "source": [
    "### combined prediction:"
   ]
  },
  {
   "cell_type": "code",
   "execution_count": 295,
   "metadata": {
    "collapsed": false
   },
   "outputs": [],
   "source": [
    "combine_predict = (svr_test_predict_01 + rfr_test_predict_01 + NN_y_Predict_test)/3.0\n"
   ]
  },
  {
   "cell_type": "code",
   "execution_count": null,
   "metadata": {
    "collapsed": false
   },
   "outputs": [],
   "source": []
  },
  {
   "cell_type": "code",
   "execution_count": 286,
   "metadata": {
    "collapsed": false
   },
   "outputs": [],
   "source": [
    "mean_test = test_y.mean()\n",
    "rel_err=[]\n",
    "for idx in range(len(test_y)):\n",
    "    rel_err.append(abs(NN_y_normalizedPredict_test[idx]-test_y[idx])/abs(test_y[idx]- mean_test   ))"
   ]
  },
  {
   "cell_type": "code",
   "execution_count": null,
   "metadata": {
    "collapsed": true
   },
   "outputs": [],
   "source": []
  },
  {
   "cell_type": "code",
   "execution_count": null,
   "metadata": {
    "collapsed": true
   },
   "outputs": [],
   "source": []
  }
 ],
 "metadata": {
  "anaconda-cloud": {},
  "kernelspec": {
   "display_name": "Python 2",
   "language": "python",
   "name": "python2"
  },
  "language_info": {
   "codemirror_mode": {
    "name": "ipython",
    "version": 2
   },
   "file_extension": ".py",
   "mimetype": "text/x-python",
   "name": "python",
   "nbconvert_exporter": "python",
   "pygments_lexer": "ipython2",
   "version": "2.7.12"
  }
 },
 "nbformat": 4,
 "nbformat_minor": 0
}

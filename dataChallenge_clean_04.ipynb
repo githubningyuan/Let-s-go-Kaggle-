{
 "cells": [
  {
   "cell_type": "code",
   "execution_count": 1,
   "metadata": {
    "collapsed": false
   },
   "outputs": [
    {
     "name": "stdout",
     "output_type": "stream",
     "text": [
      "Using matplotlib backend: TkAgg\n"
     ]
    }
   ],
   "source": [
    "% matplotlib"
   ]
  },
  {
   "cell_type": "code",
   "execution_count": 1,
   "metadata": {
    "collapsed": true
   },
   "outputs": [],
   "source": [
    "import pandas as pd\n",
    "import numpy as np\n",
    "import csv\n",
    "import matplotlib.pyplot as plt\n",
    "import datetime\n",
    "import time\n",
    "from datetime import datetime, date"
   ]
  },
  {
   "cell_type": "code",
   "execution_count": 2,
   "metadata": {
    "collapsed": true
   },
   "outputs": [],
   "source": [
    "df = pd.read_csv('trainset.csv')"
   ]
  },
  {
   "cell_type": "code",
   "execution_count": 3,
   "metadata": {
    "collapsed": true
   },
   "outputs": [],
   "source": [
    "df_test = pd.read_csv('testset.csv')"
   ]
  },
  {
   "cell_type": "markdown",
   "metadata": {},
   "source": [
    "### 丟棄'name', 'seller', 'offerType', 'model', 'nrOfPictures'"
   ]
  },
  {
   "cell_type": "code",
   "execution_count": 4,
   "metadata": {
    "collapsed": false
   },
   "outputs": [],
   "source": [
    "df = df.drop(['name', 'seller', 'offerType', 'model', 'nrOfPictures' ], axis = 1)"
   ]
  },
  {
   "cell_type": "code",
   "execution_count": 5,
   "metadata": {
    "collapsed": true
   },
   "outputs": [],
   "source": [
    "df_test = df_test.drop(['name', 'seller', 'offerType', 'model', 'nrOfPictures' ], axis = 1)"
   ]
  },
  {
   "cell_type": "code",
   "execution_count": 6,
   "metadata": {
    "collapsed": false
   },
   "outputs": [
    {
     "name": "stdout",
     "output_type": "stream",
     "text": [
      "(5508, 16)\n",
      "Index([u'dateCrawled', u'price', u'abtest', u'vehicleType',\n",
      "       u'yearOfRegistration', u'gearbox', u'powerPS', u'kilometer',\n",
      "       u'monthOfRegistration', u'fuelType', u'brand', u'notRepairedDamage',\n",
      "       u'dateCreated', u'postalCode', u'lastSeen', u'ad_exist_time'],\n",
      "      dtype='object')\n"
     ]
    }
   ],
   "source": [
    "print(df.shape)\n",
    "print df.columns"
   ]
  },
  {
   "cell_type": "code",
   "execution_count": 7,
   "metadata": {
    "collapsed": false
   },
   "outputs": [
    {
     "name": "stdout",
     "output_type": "stream",
     "text": [
      "(5000, 16)\n",
      "Index([u'id', u'dateCrawled', u'abtest', u'vehicleType', u'yearOfRegistration',\n",
      "       u'gearbox', u'powerPS', u'kilometer', u'monthOfRegistration',\n",
      "       u'fuelType', u'brand', u'notRepairedDamage', u'dateCreated',\n",
      "       u'postalCode', u'lastSeen', u'ad_exist_time'],\n",
      "      dtype='object')\n"
     ]
    }
   ],
   "source": [
    "print(df_test.shape)\n",
    "print df_test.columns"
   ]
  },
  {
   "cell_type": "markdown",
   "metadata": {},
   "source": [
    "### 01 'dateCrawled': "
   ]
  },
  {
   "cell_type": "markdown",
   "metadata": {},
   "source": [
    "### 02 'price': 把(price < 150) & (price > 15000)的資料丟掉"
   ]
  },
  {
   "cell_type": "code",
   "execution_count": 8,
   "metadata": {
    "collapsed": false
   },
   "outputs": [
    {
     "name": "stdout",
     "output_type": "stream",
     "text": [
      "174\n",
      "14900\n"
     ]
    }
   ],
   "source": [
    "print sorted(df.price)[55]\n",
    "print sorted(df.price)[-50]"
   ]
  },
  {
   "cell_type": "code",
   "execution_count": 9,
   "metadata": {
    "collapsed": false
   },
   "outputs": [
    {
     "data": {
      "text/plain": [
       "count      5508.000000\n",
       "mean       3766.172113\n",
       "std        4092.505246\n",
       "min           0.000000\n",
       "25%        1278.750000\n",
       "50%        2799.500000\n",
       "75%        5465.250000\n",
       "max      110000.000000\n",
       "Name: price, dtype: float64"
      ]
     },
     "execution_count": 9,
     "metadata": {},
     "output_type": "execute_result"
    }
   ],
   "source": [
    "df.price.describe()"
   ]
  },
  {
   "cell_type": "code",
   "execution_count": 10,
   "metadata": {
    "collapsed": false
   },
   "outputs": [
    {
     "name": "stdout",
     "output_type": "stream",
     "text": [
      "(5413, 16)\n"
     ]
    }
   ],
   "source": [
    "df = df[(df.price < 15000)&(df.price > 150)]\n",
    "print df.shape"
   ]
  },
  {
   "cell_type": "markdown",
   "metadata": {},
   "source": [
    "### 03 'abtest':"
   ]
  },
  {
   "cell_type": "code",
   "execution_count": 11,
   "metadata": {
    "collapsed": false
   },
   "outputs": [
    {
     "name": "stdout",
     "output_type": "stream",
     "text": [
      "(5413, 16)\n"
     ]
    }
   ],
   "source": [
    "df = df[df.abtest.isnull() == False]\n",
    "print df.shape"
   ]
  },
  {
   "cell_type": "code",
   "execution_count": 12,
   "metadata": {
    "collapsed": false
   },
   "outputs": [
    {
     "name": "stdout",
     "output_type": "stream",
     "text": [
      "0\n"
     ]
    }
   ],
   "source": [
    "print len(df_test[df_test.abtest.isnull()])"
   ]
  },
  {
   "cell_type": "markdown",
   "metadata": {},
   "source": [
    "### 04 'vehicleType':    "
   ]
  },
  {
   "cell_type": "markdown",
   "metadata": {},
   "source": [
    "kombi    bus    limousine    kleinwagen    suv    coupe    andere          \n",
    "旅行車 公共汽車 四門轎車 小型車 SUV 轎跑車  others"
   ]
  },
  {
   "cell_type": "code",
   "execution_count": 13,
   "metadata": {
    "collapsed": false
   },
   "outputs": [
    {
     "name": "stdout",
     "output_type": "stream",
     "text": [
      "(5370, 16)\n"
     ]
    }
   ],
   "source": [
    "df = df[df.vehicleType != 'andere']\n",
    "df = df[df.vehicleType.isnull() == False]\n",
    "print df.shape"
   ]
  },
  {
   "cell_type": "code",
   "execution_count": 14,
   "metadata": {
    "collapsed": false
   },
   "outputs": [
    {
     "data": {
      "text/plain": [
       "limousine     1613\n",
       "kleinwagen    1461\n",
       "kombi         1127\n",
       "bus            507\n",
       "cabrio         310\n",
       "coupe          226\n",
       "suv            126\n",
       "Name: vehicleType, dtype: int64"
      ]
     },
     "execution_count": 14,
     "metadata": {},
     "output_type": "execute_result"
    }
   ],
   "source": [
    "df.vehicleType.value_counts()"
   ]
  },
  {
   "cell_type": "code",
   "execution_count": 15,
   "metadata": {
    "collapsed": false
   },
   "outputs": [
    {
     "data": {
      "text/plain": [
       "limousine     1483\n",
       "kleinwagen    1373\n",
       "kombi         1046\n",
       "bus            468\n",
       "cabrio         277\n",
       "coupe          223\n",
       "suv            130\n",
       "Name: vehicleType, dtype: int64"
      ]
     },
     "execution_count": 15,
     "metadata": {},
     "output_type": "execute_result"
    }
   ],
   "source": [
    "df_test.vehicleType.value_counts()"
   ]
  },
  {
   "cell_type": "code",
   "execution_count": 16,
   "metadata": {
    "collapsed": false
   },
   "outputs": [
    {
     "name": "stdout",
     "output_type": "stream",
     "text": [
      "0\n"
     ]
    }
   ],
   "source": [
    "print len(df_test[df_test.vehicleType.isnull()])"
   ]
  },
  {
   "cell_type": "markdown",
   "metadata": {},
   "source": [
    "### 05 'yearOfRegistration': 剔除2017年"
   ]
  },
  {
   "cell_type": "code",
   "execution_count": 17,
   "metadata": {
    "collapsed": false
   },
   "outputs": [
    {
     "name": "stdout",
     "output_type": "stream",
     "text": [
      "(5370, 16)\n"
     ]
    }
   ],
   "source": [
    "df = df[df.yearOfRegistration<2017]\n",
    "print df.shape"
   ]
  },
  {
   "cell_type": "code",
   "execution_count": 18,
   "metadata": {
    "collapsed": false
   },
   "outputs": [
    {
     "name": "stdout",
     "output_type": "stream",
     "text": [
      "[1950, 1962, 1963, 1963, 1963, 1966, 1966, 1966, 1966, 1967, 1967, 1968, 1968, 1969, 1970, 1971, 1972, 1972, 1972, 1974]\n"
     ]
    }
   ],
   "source": [
    "print sorted(df.yearOfRegistration)[:20]"
   ]
  },
  {
   "cell_type": "code",
   "execution_count": 19,
   "metadata": {
    "collapsed": false
   },
   "outputs": [
    {
     "name": "stdout",
     "output_type": "stream",
     "text": [
      "[1953, 1960, 1966, 1967, 1971, 1971, 1971, 1971, 1972, 1972, 1973, 1973, 1973, 1974, 1974, 1974, 1975, 1977, 1977, 1977]\n"
     ]
    }
   ],
   "source": [
    "print sorted(df_test.yearOfRegistration)[:20]"
   ]
  },
  {
   "cell_type": "code",
   "execution_count": 20,
   "metadata": {
    "collapsed": false
   },
   "outputs": [
    {
     "name": "stdout",
     "output_type": "stream",
     "text": [
      "0\n"
     ]
    }
   ],
   "source": [
    "print len(df_test[df_test.yearOfRegistration.isnull()])"
   ]
  },
  {
   "cell_type": "markdown",
   "metadata": {},
   "source": [
    "### 06 'gearbox':"
   ]
  },
  {
   "cell_type": "code",
   "execution_count": 21,
   "metadata": {
    "collapsed": false
   },
   "outputs": [
    {
     "name": "stdout",
     "output_type": "stream",
     "text": [
      "(5356, 16)\n"
     ]
    }
   ],
   "source": [
    "df = df[df.gearbox.isnull() == False]\n",
    "print df.shape"
   ]
  },
  {
   "cell_type": "code",
   "execution_count": 22,
   "metadata": {
    "collapsed": false
   },
   "outputs": [
    {
     "name": "stdout",
     "output_type": "stream",
     "text": [
      "0\n"
     ]
    }
   ],
   "source": [
    "print len(df_test[df_test.gearbox.isnull()])"
   ]
  },
  {
   "cell_type": "markdown",
   "metadata": {},
   "source": [
    "### 07 'powerPS': test set有大量powerPS = 0的樣本 "
   ]
  },
  {
   "cell_type": "code",
   "execution_count": 23,
   "metadata": {
    "collapsed": false
   },
   "outputs": [
    {
     "name": "stdout",
     "output_type": "stream",
     "text": [
      "[326, 326, 326, 329, 331, 333, 334, 340, 340, 340, 367, 367, 367, 450, 544, 900, 1115, 1399, 1900, 10910]\n"
     ]
    }
   ],
   "source": [
    "#print sorted(df.powerPS)[:280]\n",
    "print sorted(df.powerPS)[-20:]"
   ]
  },
  {
   "cell_type": "code",
   "execution_count": 24,
   "metadata": {
    "collapsed": false
   },
   "outputs": [
    {
     "data": {
      "text/plain": [
       "count     5356.000000\n",
       "mean       112.185960\n",
       "std        160.155095\n",
       "min          0.000000\n",
       "25%         75.000000\n",
       "50%        105.000000\n",
       "75%        140.000000\n",
       "max      10910.000000\n",
       "Name: powerPS, dtype: float64"
      ]
     },
     "execution_count": 24,
     "metadata": {},
     "output_type": "execute_result"
    }
   ],
   "source": [
    "df.powerPS.describe()"
   ]
  },
  {
   "cell_type": "code",
   "execution_count": 25,
   "metadata": {
    "collapsed": false
   },
   "outputs": [
    {
     "name": "stdout",
     "output_type": "stream",
     "text": [
      "[306, 306, 313, 320, 320, 333, 334, 335, 336, 340, 341, 344, 354, 354, 367, 394, 450, 998, 1100, 5420]\n"
     ]
    }
   ],
   "source": [
    "#print sorted(df_test.powerPS)[:280]\n",
    "print sorted(df_test.powerPS)[-20:]"
   ]
  },
  {
   "cell_type": "code",
   "execution_count": 26,
   "metadata": {
    "collapsed": false
   },
   "outputs": [
    {
     "name": "stdout",
     "output_type": "stream",
     "text": [
      "250\n",
      "233\n"
     ]
    }
   ],
   "source": [
    "print len(df[df.powerPS==0])\n",
    "print len(df_test[df_test.powerPS==0])"
   ]
  },
  {
   "cell_type": "code",
   "execution_count": 27,
   "metadata": {
    "collapsed": false
   },
   "outputs": [
    {
     "name": "stdout",
     "output_type": "stream",
     "text": [
      "(5100, 16)\n"
     ]
    }
   ],
   "source": [
    "df = df[(df.powerPS > 0)&(df.powerPS < 500)]\n",
    "print df.shape"
   ]
  },
  {
   "cell_type": "code",
   "execution_count": 28,
   "metadata": {
    "collapsed": false
   },
   "outputs": [
    {
     "name": "stdout",
     "output_type": "stream",
     "text": [
      "114.529411765\n",
      "110.339\n"
     ]
    }
   ],
   "source": [
    "print(df.powerPS.mean())\n",
    "print(df_test.powerPS.mean())"
   ]
  },
  {
   "cell_type": "code",
   "execution_count": 29,
   "metadata": {
    "collapsed": false
   },
   "outputs": [
    {
     "name": "stderr",
     "output_type": "stream",
     "text": [
      "/usr/local/lib/python2.7/dist-packages/ipykernel/__main__.py:1: SettingWithCopyWarning: \n",
      "A value is trying to be set on a copy of a slice from a DataFrame\n",
      "\n",
      "See the caveats in the documentation: http://pandas.pydata.org/pandas-docs/stable/indexing.html#indexing-view-versus-copy\n",
      "  if __name__ == '__main__':\n"
     ]
    }
   ],
   "source": [
    "df_test.powerPS[(df_test.powerPS == 0) | (df_test.powerPS > 500)] = df_test.powerPS.mean()"
   ]
  },
  {
   "cell_type": "code",
   "execution_count": 30,
   "metadata": {
    "collapsed": false
   },
   "outputs": [
    {
     "name": "stdout",
     "output_type": "stream",
     "text": [
      "0\n"
     ]
    }
   ],
   "source": [
    "print len(df_test[df_test.powerPS.isnull()])"
   ]
  },
  {
   "cell_type": "markdown",
   "metadata": {},
   "source": [
    "### 08 'kilometer':"
   ]
  },
  {
   "cell_type": "code",
   "execution_count": 34,
   "metadata": {
    "collapsed": false
   },
   "outputs": [
    {
     "name": "stdout",
     "output_type": "stream",
     "text": [
      "(5100, 16)\n"
     ]
    }
   ],
   "source": [
    "df = df[df.kilometer.isnull() == False]\n",
    "print df.shape"
   ]
  },
  {
   "cell_type": "code",
   "execution_count": 35,
   "metadata": {
    "collapsed": false
   },
   "outputs": [
    {
     "name": "stdout",
     "output_type": "stream",
     "text": [
      "0\n"
     ]
    }
   ],
   "source": [
    "print len(df_test[df_test.kilometer.isnull()])"
   ]
  },
  {
   "cell_type": "markdown",
   "metadata": {},
   "source": [
    "### 10 'fuelType':"
   ]
  },
  {
   "cell_type": "code",
   "execution_count": 36,
   "metadata": {
    "collapsed": false
   },
   "outputs": [
    {
     "name": "stdout",
     "output_type": "stream",
     "text": [
      "(5085, 16)\n"
     ]
    }
   ],
   "source": [
    "df = df[df.fuelType != 'elektro']\n",
    "df = df[df.fuelType.isnull() == False]\n",
    "print df.shape"
   ]
  },
  {
   "cell_type": "code",
   "execution_count": 37,
   "metadata": {
    "collapsed": false
   },
   "outputs": [
    {
     "data": {
      "text/plain": [
       "benzin    3547\n",
       "diesel    1447\n",
       "lpg         80\n",
       "cng          8\n",
       "hybrid       3\n",
       "Name: fuelType, dtype: int64"
      ]
     },
     "execution_count": 37,
     "metadata": {},
     "output_type": "execute_result"
    }
   ],
   "source": [
    "df.fuelType.value_counts()"
   ]
  },
  {
   "cell_type": "code",
   "execution_count": 38,
   "metadata": {
    "collapsed": false
   },
   "outputs": [
    {
     "data": {
      "text/plain": [
       "benzin    3476\n",
       "diesel    1420\n",
       "lpg         87\n",
       "cng         15\n",
       "hybrid       2\n",
       "Name: fuelType, dtype: int64"
      ]
     },
     "execution_count": 38,
     "metadata": {},
     "output_type": "execute_result"
    }
   ],
   "source": [
    "df_test.fuelType.value_counts()"
   ]
  },
  {
   "cell_type": "code",
   "execution_count": 39,
   "metadata": {
    "collapsed": false
   },
   "outputs": [
    {
     "name": "stdout",
     "output_type": "stream",
     "text": [
      "0\n"
     ]
    }
   ],
   "source": [
    "print len(df_test[df_test.fuelType.isnull()])"
   ]
  },
  {
   "cell_type": "markdown",
   "metadata": {},
   "source": [
    "### 11 'brand': 5台lada車 在train set沒出現"
   ]
  },
  {
   "cell_type": "code",
   "execution_count": 40,
   "metadata": {
    "collapsed": false
   },
   "outputs": [
    {
     "name": "stdout",
     "output_type": "stream",
     "text": [
      "(5085, 16)\n"
     ]
    }
   ],
   "source": [
    "df = df[df.brand.isnull() == False]\n",
    "print df.shape"
   ]
  },
  {
   "cell_type": "code",
   "execution_count": 41,
   "metadata": {
    "collapsed": false
   },
   "outputs": [
    {
     "name": "stdout",
     "output_type": "stream",
     "text": [
      "0\n"
     ]
    }
   ],
   "source": [
    "print len(df_test[df_test.brand.isnull()])"
   ]
  },
  {
   "cell_type": "code",
   "execution_count": 42,
   "metadata": {
    "collapsed": false
   },
   "outputs": [
    {
     "data": {
      "text/plain": [
       "{'lada'}"
      ]
     },
     "execution_count": 42,
     "metadata": {},
     "output_type": "execute_result"
    }
   ],
   "source": [
    "set(df_test['brand'])-set(df['brand'])"
   ]
  },
  {
   "cell_type": "code",
   "execution_count": 43,
   "metadata": {
    "collapsed": false
   },
   "outputs": [
    {
     "name": "stdout",
     "output_type": "stream",
     "text": [
      "5\n",
      "5\n"
     ]
    }
   ],
   "source": [
    "print len(df_test[df_test.brand == 'lada'])\n",
    "print len(df_test[df_test.brand == 'lada'].dropna())"
   ]
  },
  {
   "cell_type": "markdown",
   "metadata": {},
   "source": [
    "### 12 'notRepairedDamage':"
   ]
  },
  {
   "cell_type": "code",
   "execution_count": 44,
   "metadata": {
    "collapsed": false
   },
   "outputs": [
    {
     "name": "stdout",
     "output_type": "stream",
     "text": [
      "(5043, 16)\n"
     ]
    }
   ],
   "source": [
    "df = df[df.notRepairedDamage.isnull() == False]\n",
    "print df.shape"
   ]
  },
  {
   "cell_type": "code",
   "execution_count": 45,
   "metadata": {
    "collapsed": false
   },
   "outputs": [
    {
     "name": "stdout",
     "output_type": "stream",
     "text": [
      "0\n"
     ]
    }
   ],
   "source": [
    "print len(df_test[df_test.notRepairedDamage.isnull()])"
   ]
  },
  {
   "cell_type": "code",
   "execution_count": 23,
   "metadata": {
    "collapsed": false
   },
   "outputs": [],
   "source": [
    "#df.notRepairedDamage[df.notRepairedDamage=='nein']=1.\n",
    "#df.notRepairedDamage[df.notRepairedDamage=='ja']=0."
   ]
  },
  {
   "cell_type": "markdown",
   "metadata": {},
   "source": [
    "### 13 'dateCreated':"
   ]
  },
  {
   "cell_type": "markdown",
   "metadata": {},
   "source": [
    "### 15 'lastSeen':"
   ]
  },
  {
   "cell_type": "markdown",
   "metadata": {},
   "source": [
    "### 09 'monthOfRegistration': "
   ]
  },
  {
   "cell_type": "code",
   "execution_count": 52,
   "metadata": {
    "collapsed": false
   },
   "outputs": [
    {
     "data": {
      "text/plain": [
       "0     145\n",
       "1     350\n",
       "2     344\n",
       "3     542\n",
       "4     445\n",
       "5     438\n",
       "6     479\n",
       "7     441\n",
       "8     349\n",
       "9     381\n",
       "10    407\n",
       "11    373\n",
       "12    349\n",
       "Name: monthOfRegistration, dtype: int64"
      ]
     },
     "execution_count": 52,
     "metadata": {},
     "output_type": "execute_result"
    }
   ],
   "source": [
    "df.monthOfRegistration.value_counts().sort_index()\n",
    "# df_test.monthOfRegistration.value_counts().sort_index()"
   ]
  },
  {
   "cell_type": "code",
   "execution_count": 54,
   "metadata": {
    "collapsed": false
   },
   "outputs": [
    {
     "name": "stdout",
     "output_type": "stream",
     "text": [
      "[2006, 2007, 2007, 2008, 2008, 2009, 2009, 2009, 2009, 2012]\n",
      "[2007, 2007, 2008, 2008, 2009, 2009, 2010, 2010, 2010, 2010]\n",
      "(0, 16)\n"
     ]
    }
   ],
   "source": [
    "print sorted(df.yearOfRegistration[df.monthOfRegistration==0])[-10:]\n",
    "print sorted(df_test.yearOfRegistration[df_test.monthOfRegistration==0])[-10:]\n",
    "print df_test[df_test.monthOfRegistration.isnull()].shape"
   ]
  },
  {
   "cell_type": "code",
   "execution_count": 55,
   "metadata": {
    "collapsed": true
   },
   "outputs": [],
   "source": [
    "df_month_zero_reserv = df\n",
    "df = df[df.monthOfRegistration!=0]"
   ]
  },
  {
   "cell_type": "code",
   "execution_count": 30,
   "metadata": {
    "collapsed": true
   },
   "outputs": [],
   "source": [
    "#df_01 = df_month_zero_reserv\n",
    "#df_01.monthOfRegistration[df_01.monthOfRegistration==0] = 6"
   ]
  },
  {
   "cell_type": "code",
   "execution_count": 56,
   "metadata": {
    "collapsed": false
   },
   "outputs": [
    {
     "name": "stderr",
     "output_type": "stream",
     "text": [
      "/usr/local/lib/python2.7/dist-packages/ipykernel/__main__.py:1: SettingWithCopyWarning: \n",
      "A value is trying to be set on a copy of a slice from a DataFrame\n",
      "\n",
      "See the caveats in the documentation: http://pandas.pydata.org/pandas-docs/stable/indexing.html#indexing-view-versus-copy\n",
      "  if __name__ == '__main__':\n"
     ]
    }
   ],
   "source": [
    "df_test.monthOfRegistration[df_test.monthOfRegistration==0] = 6"
   ]
  },
  {
   "cell_type": "markdown",
   "metadata": {},
   "source": [
    "### 16 'ad_exist_time':"
   ]
  },
  {
   "cell_type": "code",
   "execution_count": 57,
   "metadata": {
    "collapsed": false
   },
   "outputs": [
    {
     "name": "stdout",
     "output_type": "stream",
     "text": [
      "0\n"
     ]
    }
   ],
   "source": [
    "print len(df_test[df_test.ad_exist_time.isnull()])"
   ]
  },
  {
   "cell_type": "code",
   "execution_count": 59,
   "metadata": {
    "collapsed": true
   },
   "outputs": [],
   "source": [
    "df_A = df[df.ad_exist_time.isnull()==False ]\n",
    "df_B = df[df.ad_exist_time.isnull()]"
   ]
  },
  {
   "cell_type": "code",
   "execution_count": 60,
   "metadata": {
    "collapsed": false
   },
   "outputs": [
    {
     "name": "stdout",
     "output_type": "stream",
     "text": [
      "((4613, 16), (285, 16))\n"
     ]
    }
   ],
   "source": [
    "print( df_A.shape, df_B.shape )"
   ]
  },
  {
   "cell_type": "code",
   "execution_count": 61,
   "metadata": {
    "collapsed": false
   },
   "outputs": [],
   "source": [
    "df_B_adExist = []\n",
    "for idx in df_B.index:\n",
    "    df_B_adExist = df_B_adExist + [abs(datetime.strptime(df_B['lastSeen'][idx], '%Y/%m/%d %H:%M').date() \n",
    " - datetime.strptime(df_B['dateCreated'][idx], '%Y/%m/%d %H:%M').date() ).days]   "
   ]
  },
  {
   "cell_type": "code",
   "execution_count": 62,
   "metadata": {
    "collapsed": true
   },
   "outputs": [],
   "source": [
    "index_B = df_B.index"
   ]
  },
  {
   "cell_type": "code",
   "execution_count": 63,
   "metadata": {
    "collapsed": true
   },
   "outputs": [],
   "source": [
    "df_B.index = range(len(df_B.index))"
   ]
  },
  {
   "cell_type": "code",
   "execution_count": 64,
   "metadata": {
    "collapsed": false
   },
   "outputs": [
    {
     "name": "stderr",
     "output_type": "stream",
     "text": [
      "/usr/local/lib/python2.7/dist-packages/pandas/core/generic.py:2773: SettingWithCopyWarning: \n",
      "A value is trying to be set on a copy of a slice from a DataFrame.\n",
      "Try using .loc[row_indexer,col_indexer] = value instead\n",
      "\n",
      "See the caveats in the documentation: http://pandas.pydata.org/pandas-docs/stable/indexing.html#indexing-view-versus-copy\n",
      "  self[name] = value\n"
     ]
    }
   ],
   "source": [
    "df_B.ad_exist_time = pd.DataFrame(df_B_adExist)"
   ]
  },
  {
   "cell_type": "code",
   "execution_count": 65,
   "metadata": {
    "collapsed": false
   },
   "outputs": [],
   "source": [
    "df_B.index = index_B\n",
    "#df_B.head()"
   ]
  },
  {
   "cell_type": "code",
   "execution_count": null,
   "metadata": {
    "collapsed": true
   },
   "outputs": [],
   "source": []
  },
  {
   "cell_type": "markdown",
   "metadata": {},
   "source": [
    "### 加入 'ages'屬性："
   ]
  },
  {
   "cell_type": "code",
   "execution_count": 66,
   "metadata": {
    "collapsed": true
   },
   "outputs": [],
   "source": [
    "df_B_ages = []"
   ]
  },
  {
   "cell_type": "code",
   "execution_count": 67,
   "metadata": {
    "collapsed": false
   },
   "outputs": [],
   "source": [
    "for idx in df_B.index:\n",
    "    df_B_ages = df_B_ages + [(datetime.strptime(df_B['dateCrawled'][idx], '%Y/%m/%d %H:%M').date() \n",
    "                          - date(df_B['yearOfRegistration'][idx], df_B['monthOfRegistration'][idx], 15 )).days]                     \n",
    "    "
   ]
  },
  {
   "cell_type": "code",
   "execution_count": 68,
   "metadata": {
    "collapsed": true
   },
   "outputs": [],
   "source": [
    "df_B.index = range(len(df_B.index))"
   ]
  },
  {
   "cell_type": "code",
   "execution_count": 69,
   "metadata": {
    "collapsed": false
   },
   "outputs": [],
   "source": [
    "df_B = pd.concat([df_B,  pd.DataFrame(df_B_ages)  ], axis=1)\n",
    "name_list_B = list(df_B.columns)\n",
    "name_list_B[-1]='ages'\n",
    "df_B.columns = name_list_B"
   ]
  },
  {
   "cell_type": "code",
   "execution_count": 70,
   "metadata": {
    "collapsed": false
   },
   "outputs": [],
   "source": [
    "df_B.index = index_B"
   ]
  },
  {
   "cell_type": "code",
   "execution_count": 71,
   "metadata": {
    "collapsed": false
   },
   "outputs": [
    {
     "data": {
      "text/html": [
       "<div>\n",
       "<table border=\"1\" class=\"dataframe\">\n",
       "  <thead>\n",
       "    <tr style=\"text-align: right;\">\n",
       "      <th></th>\n",
       "      <th>dateCrawled</th>\n",
       "      <th>price</th>\n",
       "      <th>abtest</th>\n",
       "      <th>vehicleType</th>\n",
       "      <th>yearOfRegistration</th>\n",
       "      <th>gearbox</th>\n",
       "      <th>powerPS</th>\n",
       "      <th>kilometer</th>\n",
       "      <th>monthOfRegistration</th>\n",
       "      <th>fuelType</th>\n",
       "      <th>brand</th>\n",
       "      <th>notRepairedDamage</th>\n",
       "      <th>dateCreated</th>\n",
       "      <th>postalCode</th>\n",
       "      <th>lastSeen</th>\n",
       "      <th>ad_exist_time</th>\n",
       "      <th>ages</th>\n",
       "    </tr>\n",
       "  </thead>\n",
       "  <tbody>\n",
       "    <tr>\n",
       "      <th>4999</th>\n",
       "      <td>2016/3/10 11:39</td>\n",
       "      <td>7499</td>\n",
       "      <td>test</td>\n",
       "      <td>limousine</td>\n",
       "      <td>2009</td>\n",
       "      <td>manuell</td>\n",
       "      <td>105</td>\n",
       "      <td>125000</td>\n",
       "      <td>9</td>\n",
       "      <td>diesel</td>\n",
       "      <td>volkswagen</td>\n",
       "      <td>nein</td>\n",
       "      <td>2016/3/10 00:00</td>\n",
       "      <td>85469</td>\n",
       "      <td>2016/4/7 00:16</td>\n",
       "      <td>28</td>\n",
       "      <td>2368</td>\n",
       "    </tr>\n",
       "  </tbody>\n",
       "</table>\n",
       "</div>"
      ],
      "text/plain": [
       "          dateCrawled  price abtest vehicleType  yearOfRegistration  gearbox  \\\n",
       "4999  2016/3/10 11:39   7499   test   limousine                2009  manuell   \n",
       "\n",
       "      powerPS  kilometer  monthOfRegistration fuelType       brand  \\\n",
       "4999      105     125000                    9   diesel  volkswagen   \n",
       "\n",
       "     notRepairedDamage      dateCreated  postalCode        lastSeen  \\\n",
       "4999              nein  2016/3/10 00:00       85469  2016/4/7 00:16   \n",
       "\n",
       "      ad_exist_time  ages  \n",
       "4999             28  2368  "
      ]
     },
     "execution_count": 71,
     "metadata": {},
     "output_type": "execute_result"
    }
   ],
   "source": [
    "df_B.head(1)"
   ]
  },
  {
   "cell_type": "code",
   "execution_count": 72,
   "metadata": {
    "collapsed": true
   },
   "outputs": [],
   "source": [
    "df_A_ages = []"
   ]
  },
  {
   "cell_type": "code",
   "execution_count": 74,
   "metadata": {
    "collapsed": false
   },
   "outputs": [],
   "source": [
    "for idx in df_A.index:\n",
    "    df_A_ages = df_A_ages +[\n",
    "        (datetime.strptime(df_A['dateCrawled'][idx], '%Y-%m-%dT%H:%M:%SZ').date() \n",
    "       - date(df_A['yearOfRegistration'][idx], df_A['monthOfRegistration'][idx], 15 )).days\n",
    "        ]                     "
   ]
  },
  {
   "cell_type": "code",
   "execution_count": 75,
   "metadata": {
    "collapsed": true
   },
   "outputs": [],
   "source": [
    "index_A = df_A.index \n",
    "df_A.index = range(len(df_A.index))"
   ]
  },
  {
   "cell_type": "code",
   "execution_count": 76,
   "metadata": {
    "collapsed": false
   },
   "outputs": [
    {
     "data": {
      "text/html": [
       "<div>\n",
       "<table border=\"1\" class=\"dataframe\">\n",
       "  <thead>\n",
       "    <tr style=\"text-align: right;\">\n",
       "      <th></th>\n",
       "      <th>dateCrawled</th>\n",
       "      <th>price</th>\n",
       "      <th>abtest</th>\n",
       "      <th>vehicleType</th>\n",
       "      <th>yearOfRegistration</th>\n",
       "      <th>gearbox</th>\n",
       "      <th>powerPS</th>\n",
       "      <th>kilometer</th>\n",
       "      <th>monthOfRegistration</th>\n",
       "      <th>fuelType</th>\n",
       "      <th>brand</th>\n",
       "      <th>notRepairedDamage</th>\n",
       "      <th>dateCreated</th>\n",
       "      <th>postalCode</th>\n",
       "      <th>lastSeen</th>\n",
       "      <th>ad_exist_time</th>\n",
       "      <th>ages</th>\n",
       "    </tr>\n",
       "  </thead>\n",
       "  <tbody>\n",
       "    <tr>\n",
       "      <th>0</th>\n",
       "      <td>2016-03-08T23:52:31Z</td>\n",
       "      <td>3764</td>\n",
       "      <td>control</td>\n",
       "      <td>limousine</td>\n",
       "      <td>1984</td>\n",
       "      <td>manuell</td>\n",
       "      <td>34</td>\n",
       "      <td>125000</td>\n",
       "      <td>4</td>\n",
       "      <td>benzin</td>\n",
       "      <td>volkswagen</td>\n",
       "      <td>nein</td>\n",
       "      <td>2016-03-08T00:00:00Z</td>\n",
       "      <td>26215</td>\n",
       "      <td>2016-03-09T07:42:24Z</td>\n",
       "      <td>1.0</td>\n",
       "      <td>11650</td>\n",
       "    </tr>\n",
       "  </tbody>\n",
       "</table>\n",
       "</div>"
      ],
      "text/plain": [
       "            dateCrawled  price   abtest vehicleType  yearOfRegistration  \\\n",
       "0  2016-03-08T23:52:31Z   3764  control   limousine                1984   \n",
       "\n",
       "   gearbox  powerPS  kilometer  monthOfRegistration fuelType       brand  \\\n",
       "0  manuell       34     125000                    4   benzin  volkswagen   \n",
       "\n",
       "  notRepairedDamage           dateCreated  postalCode              lastSeen  \\\n",
       "0              nein  2016-03-08T00:00:00Z       26215  2016-03-09T07:42:24Z   \n",
       "\n",
       "   ad_exist_time   ages  \n",
       "0            1.0  11650  "
      ]
     },
     "execution_count": 76,
     "metadata": {},
     "output_type": "execute_result"
    }
   ],
   "source": [
    "df_A = pd.concat([df_A,  pd.DataFrame(df_A_ages)  ], axis=1)\n",
    "name_list_A = list(df_A.columns)\n",
    "name_list_A[-1]='ages'\n",
    "df_A.columns = name_list_A\n",
    "df_A.index = index_A\n",
    "df_A.head(1)"
   ]
  },
  {
   "cell_type": "code",
   "execution_count": 77,
   "metadata": {
    "collapsed": true
   },
   "outputs": [],
   "source": [
    "df = pd.concat([df_A,  df_B  ], axis=0)"
   ]
  },
  {
   "cell_type": "code",
   "execution_count": null,
   "metadata": {
    "collapsed": false
   },
   "outputs": [],
   "source": []
  },
  {
   "cell_type": "code",
   "execution_count": 78,
   "metadata": {
    "collapsed": true
   },
   "outputs": [],
   "source": [
    "df_test_ages = []"
   ]
  },
  {
   "cell_type": "code",
   "execution_count": 79,
   "metadata": {
    "collapsed": true
   },
   "outputs": [],
   "source": [
    "for idx in df_test.index:\n",
    "     df_test_ages = df_test_ages + [abs(datetime.strptime(df_test['dateCrawled'][idx], '%Y-%m-%dT%H:%M:%SZ').date() \n",
    "                          - date(df_test['yearOfRegistration'][idx], df_test['monthOfRegistration'][idx], 15 )).days]                     \n",
    "    "
   ]
  },
  {
   "cell_type": "code",
   "execution_count": 80,
   "metadata": {
    "collapsed": false
   },
   "outputs": [
    {
     "data": {
      "text/html": [
       "<div>\n",
       "<table border=\"1\" class=\"dataframe\">\n",
       "  <thead>\n",
       "    <tr style=\"text-align: right;\">\n",
       "      <th></th>\n",
       "      <th>id</th>\n",
       "      <th>dateCrawled</th>\n",
       "      <th>abtest</th>\n",
       "      <th>vehicleType</th>\n",
       "      <th>yearOfRegistration</th>\n",
       "      <th>gearbox</th>\n",
       "      <th>powerPS</th>\n",
       "      <th>kilometer</th>\n",
       "      <th>monthOfRegistration</th>\n",
       "      <th>fuelType</th>\n",
       "      <th>brand</th>\n",
       "      <th>notRepairedDamage</th>\n",
       "      <th>dateCreated</th>\n",
       "      <th>postalCode</th>\n",
       "      <th>lastSeen</th>\n",
       "      <th>ad_exist_time</th>\n",
       "      <th>ages</th>\n",
       "    </tr>\n",
       "  </thead>\n",
       "  <tbody>\n",
       "    <tr>\n",
       "      <th>0</th>\n",
       "      <td>231634</td>\n",
       "      <td>2016-03-28T12:46:24Z</td>\n",
       "      <td>test</td>\n",
       "      <td>kleinwagen</td>\n",
       "      <td>1994</td>\n",
       "      <td>manuell</td>\n",
       "      <td>45.0</td>\n",
       "      <td>150000</td>\n",
       "      <td>1</td>\n",
       "      <td>benzin</td>\n",
       "      <td>volkswagen</td>\n",
       "      <td>ja</td>\n",
       "      <td>2016-03-28T00:00:00Z</td>\n",
       "      <td>15344</td>\n",
       "      <td>2016-04-06T15:45:05Z</td>\n",
       "      <td>9</td>\n",
       "      <td>8108</td>\n",
       "    </tr>\n",
       "  </tbody>\n",
       "</table>\n",
       "</div>"
      ],
      "text/plain": [
       "       id           dateCrawled abtest vehicleType  yearOfRegistration  \\\n",
       "0  231634  2016-03-28T12:46:24Z   test  kleinwagen                1994   \n",
       "\n",
       "   gearbox  powerPS  kilometer  monthOfRegistration fuelType       brand  \\\n",
       "0  manuell     45.0     150000                    1   benzin  volkswagen   \n",
       "\n",
       "  notRepairedDamage           dateCreated  postalCode              lastSeen  \\\n",
       "0                ja  2016-03-28T00:00:00Z       15344  2016-04-06T15:45:05Z   \n",
       "\n",
       "   ad_exist_time  ages  \n",
       "0              9  8108  "
      ]
     },
     "execution_count": 80,
     "metadata": {},
     "output_type": "execute_result"
    }
   ],
   "source": [
    "df_test = pd.concat([df_test,  pd.DataFrame(df_test_ages)  ], axis=1)\n",
    "name_test_list = list(df_test.columns)\n",
    "name_test_list[-1]='ages'\n",
    "df_test.columns = name_test_list\n",
    "df_test.head(1)"
   ]
  },
  {
   "cell_type": "code",
   "execution_count": null,
   "metadata": {
    "collapsed": true
   },
   "outputs": [],
   "source": []
  },
  {
   "cell_type": "code",
   "execution_count": null,
   "metadata": {
    "collapsed": true
   },
   "outputs": [],
   "source": []
  },
  {
   "cell_type": "code",
   "execution_count": 81,
   "metadata": {
    "collapsed": true
   },
   "outputs": [],
   "source": [
    "df = df.drop([ 'dateCrawled', 'lastSeen', 'dateCreated', 'monthOfRegistration' ], axis = 1)\n",
    "df_test = df_test.drop(['dateCrawled', 'lastSeen', 'dateCreated' , 'monthOfRegistration'], axis = 1)"
   ]
  },
  {
   "cell_type": "code",
   "execution_count": 82,
   "metadata": {
    "collapsed": false
   },
   "outputs": [
    {
     "name": "stdout",
     "output_type": "stream",
     "text": [
      "(4898, 13)\n"
     ]
    },
    {
     "data": {
      "text/plain": [
       "Index([u'price', u'abtest', u'vehicleType', u'yearOfRegistration', u'gearbox',\n",
       "       u'powerPS', u'kilometer', u'fuelType', u'brand', u'notRepairedDamage',\n",
       "       u'postalCode', u'ad_exist_time', u'ages'],\n",
       "      dtype='object')"
      ]
     },
     "execution_count": 82,
     "metadata": {},
     "output_type": "execute_result"
    }
   ],
   "source": [
    "print(df.shape)\n",
    "df.columns"
   ]
  },
  {
   "cell_type": "code",
   "execution_count": 83,
   "metadata": {
    "collapsed": false
   },
   "outputs": [
    {
     "name": "stdout",
     "output_type": "stream",
     "text": [
      "(5000, 13)\n"
     ]
    },
    {
     "data": {
      "text/plain": [
       "Index([u'id', u'abtest', u'vehicleType', u'yearOfRegistration', u'gearbox',\n",
       "       u'powerPS', u'kilometer', u'fuelType', u'brand', u'notRepairedDamage',\n",
       "       u'postalCode', u'ad_exist_time', u'ages'],\n",
       "      dtype='object')"
      ]
     },
     "execution_count": 83,
     "metadata": {},
     "output_type": "execute_result"
    }
   ],
   "source": [
    "print(df_test.shape)\n",
    "df_test.columns"
   ]
  },
  {
   "cell_type": "code",
   "execution_count": null,
   "metadata": {
    "collapsed": true
   },
   "outputs": [],
   "source": []
  },
  {
   "cell_type": "markdown",
   "metadata": {},
   "source": [
    "### 14 'postalCode':"
   ]
  },
  {
   "cell_type": "code",
   "execution_count": 84,
   "metadata": {
    "collapsed": false,
    "scrolled": true
   },
   "outputs": [
    {
     "name": "stdout",
     "output_type": "stream",
     "text": [
      "(4898, 13)\n"
     ]
    }
   ],
   "source": [
    "df = df[df.postalCode.isnull() == False]\n",
    "print df.shape"
   ]
  },
  {
   "cell_type": "code",
   "execution_count": 85,
   "metadata": {
    "collapsed": false
   },
   "outputs": [
    {
     "name": "stdout",
     "output_type": "stream",
     "text": [
      "0\n"
     ]
    }
   ],
   "source": [
    "print len(df_test[df_test.postalCode.isnull()])"
   ]
  },
  {
   "cell_type": "code",
   "execution_count": 86,
   "metadata": {
    "collapsed": true
   },
   "outputs": [],
   "source": [
    "backup_postalCode = df.postalCode.multiply(0.0001).apply(np.int64).apply(str)"
   ]
  },
  {
   "cell_type": "code",
   "execution_count": 87,
   "metadata": {
    "collapsed": false
   },
   "outputs": [
    {
     "name": "stdout",
     "output_type": "stream",
     "text": [
      "0    2\n",
      "Name: postalCode, dtype: object\n"
     ]
    }
   ],
   "source": [
    "df.postalCode = backup_postalCode\n",
    "print df.postalCode[:1]"
   ]
  },
  {
   "cell_type": "code",
   "execution_count": 88,
   "metadata": {
    "collapsed": true
   },
   "outputs": [],
   "source": [
    "backup_postalCode_test = df_test.postalCode.multiply(0.0001).apply(np.int64).apply(str)"
   ]
  },
  {
   "cell_type": "code",
   "execution_count": 89,
   "metadata": {
    "collapsed": false
   },
   "outputs": [
    {
     "name": "stdout",
     "output_type": "stream",
     "text": [
      "0    1\n",
      "Name: postalCode, dtype: object\n"
     ]
    }
   ],
   "source": [
    "df_test.postalCode = backup_postalCode_test\n",
    "print df_test.postalCode[:1]"
   ]
  },
  {
   "cell_type": "code",
   "execution_count": 90,
   "metadata": {
    "collapsed": true
   },
   "outputs": [],
   "source": [
    "#df_postalCode_reserv = df\n",
    "#df_test_postalCode_reserv = df_test\n",
    "df = df.drop(['postalCode' ], axis = 1)\n",
    "df_test = df_test.drop(['postalCode' ], axis = 1)"
   ]
  },
  {
   "cell_type": "code",
   "execution_count": null,
   "metadata": {
    "collapsed": true
   },
   "outputs": [],
   "source": []
  },
  {
   "cell_type": "code",
   "execution_count": null,
   "metadata": {
    "collapsed": true
   },
   "outputs": [],
   "source": []
  },
  {
   "cell_type": "code",
   "execution_count": 91,
   "metadata": {
    "collapsed": false
   },
   "outputs": [
    {
     "name": "stdout",
     "output_type": "stream",
     "text": [
      "(4898, 12)\n",
      "(4898, 12)\n"
     ]
    }
   ],
   "source": [
    "print df.shape\n",
    "print df.dropna().shape"
   ]
  },
  {
   "cell_type": "code",
   "execution_count": 92,
   "metadata": {
    "collapsed": false
   },
   "outputs": [],
   "source": [
    "df.to_csv('df_cleaned.csv', index=False)\n",
    "df_test.to_csv('df_test_cleaned.csv', index=False)\n",
    "df_01 = pd.read_csv('df_cleaned.csv')\n",
    "df_test_01 = pd.read_csv('df_test_cleaned.csv')"
   ]
  },
  {
   "cell_type": "markdown",
   "metadata": {},
   "source": [
    "df_clean_01:  Index([u'price', u'abtest', u'vehicleType', u'yearOfRegistration', u'gearbox', u'powerPS', u'kilometer', u'fuelType', u'brand', u'notRepairedDamage',\n",
    "       u'ad_exist_time', u'ages'],\n",
    "      dtype='object')     \n",
    "Preprosessing:  0 < price, yearOfRegistration < 2017,   0 < power < 601,\n",
    "            df = df[ df.monthOfRegistration != 0], \n",
    "            Drop all missing values     \n",
    "\n",
    "df_test_clean_01: Index([u'id', u'abtest', u'vehicleType', u'yearOfRegistration', u'gearbox',\n",
    "       u'powerPS', u'kilometer', u'fuelType', u'brand', u'notRepairedDamage',\n",
    "       u'ad_exist_time', u'ages'],\n",
    "      dtype='object')\n",
    "Preprosessing:    df[ df.monthOfRegistration == 0] = 6"
   ]
  },
  {
   "cell_type": "code",
   "execution_count": 62,
   "metadata": {
    "collapsed": true
   },
   "outputs": [],
   "source": [
    "#df_02.to_csv('df_clean_02.csv', index=False)\n",
    "#df_test_02.to_csv('df_test_clean_02.csv', index=False)\n",
    "#df_02 = pd.read_csv('df_clean_02.csv')\n",
    "#df_test_02 = pd.read_csv('df_test_clean_02.csv')"
   ]
  },
  {
   "cell_type": "markdown",
   "metadata": {},
   "source": [
    "df_clean_02: Index([u'price', u'abtest', u'vehicleType', u'yearOfRegistration', u'gearbox', u'powerPS', u'kilometer', u'fuelType', u'brand', u'notRepairedDamage',\n",
    "       u'postalCode', u'ad_exist_time', u'ages'], dtype='object')\n",
    "Preprosessing: 0 < price, yearOfRegistration < 2017, 0 < power < 601, 0 < postalCode < 9, df = df[ df.monthOfRegistration != 0], Drop all missing values\n",
    "\n",
    "df_test_clean_02: Index([u'id', u'abtest', u'vehicleType', u'yearOfRegistration', u'gearbox', u'powerPS', u'kilometer', u'fuelType', u'brand', u'notRepairedDamage',\n",
    "       u'postalCode', u'ad_exist_time', u'ages'], dtype='object')   Preprosessing: 0 < postalCode < 9, df[ df.monthOfRegistration == 0] = 6"
   ]
  },
  {
   "cell_type": "code",
   "execution_count": null,
   "metadata": {
    "collapsed": true
   },
   "outputs": [],
   "source": []
  },
  {
   "cell_type": "code",
   "execution_count": null,
   "metadata": {
    "collapsed": true
   },
   "outputs": [],
   "source": []
  },
  {
   "cell_type": "code",
   "execution_count": null,
   "metadata": {
    "collapsed": true
   },
   "outputs": [],
   "source": []
  },
  {
   "cell_type": "code",
   "execution_count": 94,
   "metadata": {
    "collapsed": false
   },
   "outputs": [
    {
     "name": "stderr",
     "output_type": "stream",
     "text": [
      "/usr/local/lib/python2.7/dist-packages/sklearn/cross_validation.py:44: DeprecationWarning: This module was deprecated in version 0.18 in favor of the model_selection module into which all the refactored classes and functions are moved. Also note that the interface of the new CV iterators are different from that of this module. This module will be removed in 0.20.\n",
      "  \"This module will be removed in 0.20.\", DeprecationWarning)\n"
     ]
    }
   ],
   "source": [
    "from sklearn.linear_model import LinearRegression, SGDRegressor\n",
    "from sklearn.ensemble import ExtraTreesRegressor, RandomForestRegressor, GradientBoostingRegressor\n",
    "from sklearn.svm import  SVR\n",
    "from sklearn.cross_validation import train_test_split, cross_val_score\n",
    "from sklearn.metrics import r2_score, mean_squared_error, mean_absolute_error\n",
    "from sklearn.preprocessing import StandardScaler\n",
    "from sklearn.feature_extraction import DictVectorizer"
   ]
  },
  {
   "cell_type": "markdown",
   "metadata": {},
   "source": [
    "## Prepare train/val/test data for  LinearRegression and RandomForestRegressor"
   ]
  },
  {
   "cell_type": "code",
   "execution_count": 153,
   "metadata": {
    "collapsed": true
   },
   "outputs": [],
   "source": [
    "y_01 = df_01['price']\n",
    "X_01 = df_01.drop(['price'], axis = 1)\n",
    "X_test_01 = df_test_01.drop(['id'], axis = 1)\n",
    "id_test_01 = df_test_01['id']"
   ]
  },
  {
   "cell_type": "code",
   "execution_count": 96,
   "metadata": {
    "collapsed": false
   },
   "outputs": [],
   "source": [
    "X_train_01, X_val_01, y_train_01, y_val_01 =train_test_split(\n",
    "    X_01, y_01, test_size = 0.3, random_state = 222 )"
   ]
  },
  {
   "cell_type": "code",
   "execution_count": 97,
   "metadata": {
    "collapsed": false
   },
   "outputs": [
    {
     "name": "stdout",
     "output_type": "stream",
     "text": [
      "(4898, 11)\n",
      "(3428, 11)\n",
      "(1470, 11)\n",
      "(5000, 11)\n"
     ]
    }
   ],
   "source": [
    "print( X_01.shape)\n",
    "print( X_train_01.shape)\n",
    "#print( X_val_01.shape)\n",
    "print( X_test_01.shape)"
   ]
  },
  {
   "cell_type": "code",
   "execution_count": 98,
   "metadata": {
    "collapsed": true
   },
   "outputs": [],
   "source": [
    "vec = DictVectorizer()"
   ]
  },
  {
   "cell_type": "code",
   "execution_count": 99,
   "metadata": {
    "collapsed": false
   },
   "outputs": [],
   "source": [
    "X_train_01 = vec.fit_transform(X_train_01.to_dict(orient = 'record'))"
   ]
  },
  {
   "cell_type": "code",
   "execution_count": 100,
   "metadata": {
    "collapsed": false
   },
   "outputs": [],
   "source": [
    "X_test_01 = vec.transform(X_test_01.to_dict(orient = 'record'))"
   ]
  },
  {
   "cell_type": "code",
   "execution_count": 101,
   "metadata": {
    "collapsed": true
   },
   "outputs": [],
   "source": [
    "X_val_01 = vec.transform(X_val_01.to_dict(orient = 'record'))"
   ]
  },
  {
   "cell_type": "code",
   "execution_count": 102,
   "metadata": {
    "collapsed": false
   },
   "outputs": [
    {
     "name": "stdout",
     "output_type": "stream",
     "text": [
      "62\n"
     ]
    }
   ],
   "source": [
    "print (len(vec.feature_names_))"
   ]
  },
  {
   "cell_type": "markdown",
   "metadata": {},
   "source": [
    "## LinearRegression"
   ]
  },
  {
   "cell_type": "code",
   "execution_count": 103,
   "metadata": {
    "collapsed": true
   },
   "outputs": [],
   "source": [
    "lr_01 = LinearRegression()"
   ]
  },
  {
   "cell_type": "code",
   "execution_count": 104,
   "metadata": {
    "collapsed": false
   },
   "outputs": [],
   "source": [
    "lr_01.fit(X_train_01, y_train_01)\n",
    "lr_val_predict_01 = lr_01.predict(X_val_01)"
   ]
  },
  {
   "cell_type": "code",
   "execution_count": 105,
   "metadata": {
    "collapsed": false
   },
   "outputs": [
    {
     "name": "stdout",
     "output_type": "stream",
     "text": [
      "('LR default measure:', 0.52853108731248399)\n"
     ]
    }
   ],
   "source": [
    "print('LR default measure:', lr_01.score(X_val_01, y_val_01))"
   ]
  },
  {
   "cell_type": "markdown",
   "metadata": {},
   "source": [
    "## RandomForestRegressor"
   ]
  },
  {
   "cell_type": "code",
   "execution_count": 143,
   "metadata": {
    "collapsed": false
   },
   "outputs": [],
   "source": [
    "rfr_01 = RandomForestRegressor( bootstrap= False ,n_jobs = -1, n_estimators=5000,\n",
    "                               max_features='sqrt')"
   ]
  },
  {
   "cell_type": "code",
   "execution_count": 144,
   "metadata": {
    "collapsed": false
   },
   "outputs": [
    {
     "data": {
      "text/plain": [
       "RandomForestRegressor(bootstrap=False, criterion='mse', max_depth=None,\n",
       "           max_features='sqrt', max_leaf_nodes=None,\n",
       "           min_impurity_split=1e-07, min_samples_leaf=1,\n",
       "           min_samples_split=2, min_weight_fraction_leaf=0.0,\n",
       "           n_estimators=5000, n_jobs=-1, oob_score=False,\n",
       "           random_state=None, verbose=0, warm_start=False)"
      ]
     },
     "execution_count": 144,
     "metadata": {},
     "output_type": "execute_result"
    }
   ],
   "source": [
    "rfr_01.fit(X_train_01, y_train_01)"
   ]
  },
  {
   "cell_type": "markdown",
   "metadata": {},
   "source": [
    "### r2_score on validation data:"
   ]
  },
  {
   "cell_type": "code",
   "execution_count": 151,
   "metadata": {
    "collapsed": true
   },
   "outputs": [],
   "source": [
    "rfr_val_predict_01 = rfr_01.predict(X_val_01)"
   ]
  },
  {
   "cell_type": "code",
   "execution_count": 152,
   "metadata": {
    "collapsed": false
   },
   "outputs": [
    {
     "name": "stdout",
     "output_type": "stream",
     "text": [
      "0.765428444439\n"
     ]
    }
   ],
   "source": [
    "print r2_score(y_val_01, rfr_val_predict_01)"
   ]
  },
  {
   "cell_type": "markdown",
   "metadata": {},
   "source": [
    "Cross Validation:"
   ]
  },
  {
   "cell_type": "code",
   "execution_count": 147,
   "metadata": {
    "collapsed": true
   },
   "outputs": [],
   "source": [
    "#scores = cross_val_score(rfr_01, X_train_01, y_train_01, cv = 12, n_jobs = -1, )"
   ]
  },
  {
   "cell_type": "code",
   "execution_count": 148,
   "metadata": {
    "collapsed": false
   },
   "outputs": [
    {
     "name": "stdout",
     "output_type": "stream",
     "text": [
      "0.764957086096\n"
     ]
    }
   ],
   "source": [
    "#print(scores.mean())"
   ]
  },
  {
   "cell_type": "markdown",
   "metadata": {},
   "source": [
    "### r2_score on training data:"
   ]
  },
  {
   "cell_type": "code",
   "execution_count": 114,
   "metadata": {
    "collapsed": false
   },
   "outputs": [],
   "source": [
    "#rfr_train_predict_01 = rfr_01.predict(X_train_01)"
   ]
  },
  {
   "cell_type": "code",
   "execution_count": 115,
   "metadata": {
    "collapsed": false
   },
   "outputs": [
    {
     "name": "stdout",
     "output_type": "stream",
     "text": [
      "0.967810351194\n"
     ]
    }
   ],
   "source": [
    "#print r2_score(y_train_01, rfr_train_predict_01)"
   ]
  },
  {
   "cell_type": "code",
   "execution_count": null,
   "metadata": {
    "collapsed": true
   },
   "outputs": [],
   "source": []
  },
  {
   "cell_type": "markdown",
   "metadata": {},
   "source": [
    "## Cross Validation:"
   ]
  },
  {
   "cell_type": "code",
   "execution_count": 125,
   "metadata": {
    "collapsed": true
   },
   "outputs": [],
   "source": [
    "rfr_02 = RandomForestRegressor( bootstrap= True ,n_jobs = -1, n_estimators=100,\n",
    "                               max_features='sqrt')"
   ]
  },
  {
   "cell_type": "code",
   "execution_count": 137,
   "metadata": {
    "collapsed": true
   },
   "outputs": [],
   "source": [
    "rfr_03 = RandomForestRegressor( bootstrap= False ,n_jobs = -1, n_estimators=100,\n",
    "                               max_features='sqrt')"
   ]
  },
  {
   "cell_type": "code",
   "execution_count": 139,
   "metadata": {
    "collapsed": true
   },
   "outputs": [],
   "source": [
    "cv_range = range(2,21,1)\n",
    "#cv_range = [2, 3, 5, 10]\n",
    "#results_lr = []\n",
    "results_rfr = []"
   ]
  },
  {
   "cell_type": "code",
   "execution_count": 140,
   "metadata": {
    "collapsed": false
   },
   "outputs": [],
   "source": [
    "for cv_val in cv_range:\n",
    "    scores = cross_val_score(rfr_03, X_train_01, y_train_01, cv = cv_val, n_jobs = -1, )\n",
    "    results_rfr = np.append(results_rfr, scores.mean() )"
   ]
  },
  {
   "cell_type": "code",
   "execution_count": 141,
   "metadata": {
    "collapsed": false
   },
   "outputs": [
    {
     "name": "stdout",
     "output_type": "stream",
     "text": [
      "[ 0.7452093   0.74966946  0.75559422  0.75247245  0.75609827  0.75868659\n",
      "  0.75992368  0.75949348  0.75786696  0.76302323  0.76108112  0.76113997\n",
      "  0.76119479  0.76007584  0.76017984  0.76000976  0.75814598  0.76175382\n",
      "  0.76082829]\n"
     ]
    }
   ],
   "source": [
    "print(results_rfr)\n",
    "results_rfr_03 = results_rfr"
   ]
  },
  {
   "cell_type": "code",
   "execution_count": 142,
   "metadata": {
    "collapsed": false
   },
   "outputs": [
    {
     "data": {
      "image/png": "[encoded data removed]",
      "text/plain": [
       "<matplotlib.figure.Figure at 0x7f32925cd910>"
      ]
     },
     "metadata": {},
     "output_type": "display_data"
    }
   ],
   "source": [
    "plt.figure(1)\n",
    "plt.subplot(111)\n",
    "plt.plot(cv_range, results_rfr_02, label='rfr_02')\n",
    "plt.plot(cv_range, results_rfr_03, label='rfr_03')\n",
    "plt.title('cv_r2_score')\n",
    "plt.legend(loc='upper left')\n",
    "# plt.savefig('01.png',dpi=300,format='png')\n",
    "plt.show()\n",
    "#plt.close()"
   ]
  },
  {
   "cell_type": "code",
   "execution_count": null,
   "metadata": {
    "collapsed": true
   },
   "outputs": [],
   "source": []
  },
  {
   "cell_type": "markdown",
   "metadata": {},
   "source": [
    "## Use all data for training"
   ]
  },
  {
   "cell_type": "code",
   "execution_count": 155,
   "metadata": {
    "collapsed": true
   },
   "outputs": [],
   "source": [
    "y_01 = df_01['price']\n",
    "X_01 = df_01.drop(['price'], axis = 1)\n",
    "X_test_01 = df_test_01.drop(['id'], axis = 1)\n",
    "id_test_01 = df_test_01['id']"
   ]
  },
  {
   "cell_type": "code",
   "execution_count": 156,
   "metadata": {
    "collapsed": true
   },
   "outputs": [],
   "source": [
    "X_train_all, X_val_all, y_train_all, y_val_all =train_test_split(\n",
    "    X_01, y_01, test_size = 0., random_state = 222 )"
   ]
  },
  {
   "cell_type": "code",
   "execution_count": 157,
   "metadata": {
    "collapsed": true
   },
   "outputs": [],
   "source": [
    "X_train_all = vec.fit_transform(X_train_all.to_dict(orient = 'record'))"
   ]
  },
  {
   "cell_type": "code",
   "execution_count": 158,
   "metadata": {
    "collapsed": true
   },
   "outputs": [],
   "source": [
    "X_test_01 = vec.transform(X_test_01.to_dict(orient = 'record'))"
   ]
  },
  {
   "cell_type": "code",
   "execution_count": 160,
   "metadata": {
    "collapsed": false
   },
   "outputs": [
    {
     "data": {
      "text/plain": [
       "RandomForestRegressor(bootstrap=False, criterion='mse', max_depth=None,\n",
       "           max_features='sqrt', max_leaf_nodes=None,\n",
       "           min_impurity_split=1e-07, min_samples_leaf=1,\n",
       "           min_samples_split=2, min_weight_fraction_leaf=0.0,\n",
       "           n_estimators=5000, n_jobs=-1, oob_score=False,\n",
       "           random_state=None, verbose=0, warm_start=False)"
      ]
     },
     "execution_count": 160,
     "metadata": {},
     "output_type": "execute_result"
    }
   ],
   "source": [
    "rfr_01.fit(X_train_all, y_train_all)"
   ]
  },
  {
   "cell_type": "code",
   "execution_count": 162,
   "metadata": {
    "collapsed": false
   },
   "outputs": [
    {
     "data": {
      "text/plain": [
       "0.77855106509064331"
      ]
     },
     "execution_count": 162,
     "metadata": {},
     "output_type": "execute_result"
    }
   ],
   "source": [
    "#rfr_test_predict_01 = rfr_01.predict(X_test_01)\n",
    "#r2_score(AN_list, rfr_test_predict_01)"
   ]
  },
  {
   "cell_type": "markdown",
   "metadata": {},
   "source": [
    "## Create a csv file"
   ]
  },
  {
   "cell_type": "code",
   "execution_count": 226,
   "metadata": {
    "collapsed": true
   },
   "outputs": [],
   "source": [
    "rfr_result = pd.concat([df_test.id,  pd.DataFrame(rfr_test_predict_01)  ], axis=1)"
   ]
  },
  {
   "cell_type": "code",
   "execution_count": 227,
   "metadata": {
    "collapsed": true
   },
   "outputs": [],
   "source": [
    "rfr_result.columns = ['id','predict']\n",
    "rfr_result.id = rfr_result.id.apply(np.int64)"
   ]
  },
  {
   "cell_type": "code",
   "execution_count": 229,
   "metadata": {
    "collapsed": true
   },
   "outputs": [],
   "source": [
    "rfr_result.to_csv('submit_01.csv', index=False)"
   ]
  },
  {
   "cell_type": "code",
   "execution_count": null,
   "metadata": {
    "collapsed": true
   },
   "outputs": [],
   "source": []
  },
  {
   "cell_type": "code",
   "execution_count": null,
   "metadata": {
    "collapsed": true
   },
   "outputs": [],
   "source": []
  },
  {
   "cell_type": "markdown",
   "metadata": {
    "collapsed": true
   },
   "source": [
    "## Prepare train/val/test data for  SVR"
   ]
  },
  {
   "cell_type": "code",
   "execution_count": 242,
   "metadata": {
    "collapsed": true
   },
   "outputs": [],
   "source": [
    "y_01 = df_01['price']\n",
    "X_01 = df_01.drop(['price'], axis = 1)\n",
    "X_test_01 = df_test_01.drop(['id'], axis = 1)\n",
    "id_test_01 = df_test_01['id']"
   ]
  },
  {
   "cell_type": "code",
   "execution_count": 243,
   "metadata": {
    "collapsed": false
   },
   "outputs": [
    {
     "name": "stdout",
     "output_type": "stream",
     "text": [
      "('abtest', <type 'str'>)\n",
      "('vehicleType', <type 'str'>)\n",
      "('yearOfRegistration', <type 'numpy.float64'>)\n",
      "('gearbox', <type 'str'>)\n",
      "('powerPS', <type 'numpy.float64'>)\n",
      "('kilometer', <type 'numpy.float64'>)\n",
      "('fuelType', <type 'str'>)\n",
      "('brand', <type 'str'>)\n",
      "('notRepairedDamage', <type 'str'>)\n",
      "('ad_exist_time', <type 'numpy.float64'>)\n",
      "('ages', <type 'numpy.float64'>)\n"
     ]
    }
   ],
   "source": [
    "list_categ =[]\n",
    "list_num =[]\n",
    "for name in X_01.columns:\n",
    "    if type(df[name][0])==str:\n",
    "        list_categ.append(name)\n",
    "    else:\n",
    "        list_num.append(name)\n",
    "        df[name]=df[name].apply(np.float64)\n",
    "    print(name, type(df[name][0]))\n",
    "    \n",
    "#y_01 = y_01.apply(np.float64)"
   ]
  },
  {
   "cell_type": "code",
   "execution_count": 244,
   "metadata": {
    "collapsed": false
   },
   "outputs": [
    {
     "name": "stdout",
     "output_type": "stream",
     "text": [
      "['abtest', 'vehicleType', 'gearbox', 'fuelType', 'brand', 'notRepairedDamage']\n",
      "['yearOfRegistration', 'powerPS', 'kilometer', 'ad_exist_time', 'ages']\n"
     ]
    }
   ],
   "source": [
    "print(list_categ)\n",
    "print(list_num)"
   ]
  },
  {
   "cell_type": "code",
   "execution_count": 245,
   "metadata": {
    "collapsed": true
   },
   "outputs": [],
   "source": [
    "X_01_num = X_01.drop(list_categ, axis = 1)\n",
    "X_01_cate = X_01.drop(list_num, axis = 1)\n",
    "X_test_01_num = X_test_01.drop(list_categ, axis = 1)\n",
    "X_test_01_cate = X_test_01.drop(list_num, axis = 1)"
   ]
  },
  {
   "cell_type": "code",
   "execution_count": 246,
   "metadata": {
    "collapsed": false
   },
   "outputs": [],
   "source": [
    "ss_X = StandardScaler()\n",
    "ss_y = StandardScaler()"
   ]
  },
  {
   "cell_type": "code",
   "execution_count": 247,
   "metadata": {
    "collapsed": false
   },
   "outputs": [
    {
     "name": "stderr",
     "output_type": "stream",
     "text": [
      "/usr/local/lib/python2.7/dist-packages/sklearn/utils/validation.py:429: DataConversionWarning: Data with input dtype int64 was converted to float64 by StandardScaler.\n",
      "  warnings.warn(msg, _DataConversionWarning)\n",
      "/usr/local/lib/python2.7/dist-packages/sklearn/preprocessing/data.py:586: DeprecationWarning: Passing 1d arrays as data is deprecated in 0.17 and will raise ValueError in 0.19. Reshape your data either using X.reshape(-1, 1) if your data has a single feature or X.reshape(1, -1) if it contains a single sample.\n",
      "  warnings.warn(DEPRECATION_MSG_1D, DeprecationWarning)\n",
      "/usr/local/lib/python2.7/dist-packages/sklearn/preprocessing/data.py:649: DeprecationWarning: Passing 1d arrays as data is deprecated in 0.17 and will raise ValueError in 0.19. Reshape your data either using X.reshape(-1, 1) if your data has a single feature or X.reshape(1, -1) if it contains a single sample.\n",
      "  warnings.warn(DEPRECATION_MSG_1D, DeprecationWarning)\n",
      "/usr/local/lib/python2.7/dist-packages/sklearn/preprocessing/data.py:649: DeprecationWarning: Passing 1d arrays as data is deprecated in 0.17 and will raise ValueError in 0.19. Reshape your data either using X.reshape(-1, 1) if your data has a single feature or X.reshape(1, -1) if it contains a single sample.\n",
      "  warnings.warn(DEPRECATION_MSG_1D, DeprecationWarning)\n"
     ]
    }
   ],
   "source": [
    "X_01_num = ss_X.fit_transform(X_01_num)\n",
    "X_test_01_num = ss_X.transform(X_test_01_num)\n",
    "y_01 = ss_y.fit_transform(y_01)\n",
    "y_test_01 = ss_y.transform(AN_list)"
   ]
  },
  {
   "cell_type": "code",
   "execution_count": 248,
   "metadata": {
    "collapsed": false
   },
   "outputs": [],
   "source": [
    "X_01 = pd.concat([pd.DataFrame(X_01_num),  X_01_cate  ], axis=1)\n",
    "X_test_01 = pd.concat([pd.DataFrame(X_test_01_num),  X_test_01_cate  ], axis=1)\n",
    "X_01.columns = list_num + list_categ\n",
    "X_test_01.columns = list_num + list_categ"
   ]
  },
  {
   "cell_type": "code",
   "execution_count": 180,
   "metadata": {
    "collapsed": false
   },
   "outputs": [
    {
     "data": {
      "text/html": [
       "<div>\n",
       "<table border=\"1\" class=\"dataframe\">\n",
       "  <thead>\n",
       "    <tr style=\"text-align: right;\">\n",
       "      <th></th>\n",
       "      <th>yearOfRegistration</th>\n",
       "      <th>powerPS</th>\n",
       "      <th>kilometer</th>\n",
       "      <th>ad_exist_time</th>\n",
       "      <th>ages</th>\n",
       "      <th>abtest</th>\n",
       "      <th>vehicleType</th>\n",
       "      <th>gearbox</th>\n",
       "      <th>fuelType</th>\n",
       "      <th>brand</th>\n",
       "      <th>notRepairedDamage</th>\n",
       "    </tr>\n",
       "  </thead>\n",
       "  <tbody>\n",
       "    <tr>\n",
       "      <th>0</th>\n",
       "      <td>-3.189141</td>\n",
       "      <td>-1.746496</td>\n",
       "      <td>-0.187144</td>\n",
       "      <td>-0.916955</td>\n",
       "      <td>3.211863</td>\n",
       "      <td>control</td>\n",
       "      <td>limousine</td>\n",
       "      <td>manuell</td>\n",
       "      <td>benzin</td>\n",
       "      <td>volkswagen</td>\n",
       "      <td>nein</td>\n",
       "    </tr>\n",
       "    <tr>\n",
       "      <th>1</th>\n",
       "      <td>-0.030311</td>\n",
       "      <td>1.395836</td>\n",
       "      <td>0.552193</td>\n",
       "      <td>-1.038665</td>\n",
       "      <td>0.006433</td>\n",
       "      <td>control</td>\n",
       "      <td>limousine</td>\n",
       "      <td>manuell</td>\n",
       "      <td>benzin</td>\n",
       "      <td>volkswagen</td>\n",
       "      <td>ja</td>\n",
       "    </tr>\n",
       "  </tbody>\n",
       "</table>\n",
       "</div>"
      ],
      "text/plain": [
       "   yearOfRegistration   powerPS  kilometer  ad_exist_time      ages   abtest  \\\n",
       "0           -3.189141 -1.746496  -0.187144      -0.916955  3.211863  control   \n",
       "1           -0.030311  1.395836   0.552193      -1.038665  0.006433  control   \n",
       "\n",
       "  vehicleType  gearbox fuelType       brand notRepairedDamage  \n",
       "0   limousine  manuell   benzin  volkswagen              nein  \n",
       "1   limousine  manuell   benzin  volkswagen                ja  "
      ]
     },
     "execution_count": 180,
     "metadata": {},
     "output_type": "execute_result"
    }
   ],
   "source": [
    "X_01.head(2)"
   ]
  },
  {
   "cell_type": "code",
   "execution_count": 249,
   "metadata": {
    "collapsed": false
   },
   "outputs": [],
   "source": [
    "X_train_01, X_val_01, y_train_01, y_val_01 =train_test_split(\n",
    "    X_01, y_01, test_size = 0., random_state = 222 )"
   ]
  },
  {
   "cell_type": "code",
   "execution_count": 250,
   "metadata": {
    "collapsed": true
   },
   "outputs": [],
   "source": [
    "vec = DictVectorizer()"
   ]
  },
  {
   "cell_type": "code",
   "execution_count": 251,
   "metadata": {
    "collapsed": true
   },
   "outputs": [],
   "source": [
    "X_train_01 = vec.fit_transform(X_train_01.to_dict(orient = 'record'))\n",
    "X_test_01 = vec.transform(X_test_01.to_dict(orient = 'record'))"
   ]
  },
  {
   "cell_type": "code",
   "execution_count": 184,
   "metadata": {
    "collapsed": false
   },
   "outputs": [],
   "source": [
    "X_val_01 = vec.transform(X_val_01.to_dict(orient = 'record'))"
   ]
  },
  {
   "cell_type": "markdown",
   "metadata": {},
   "source": [
    "## SVR"
   ]
  },
  {
   "cell_type": "code",
   "execution_count": 252,
   "metadata": {
    "collapsed": true
   },
   "outputs": [],
   "source": [
    "svr_01 = SVR( kernel = 'rbf', C = 2.0, epsilon= 0.1,  gamma = 0.09)"
   ]
  },
  {
   "cell_type": "code",
   "execution_count": 253,
   "metadata": {
    "collapsed": false
   },
   "outputs": [
    {
     "data": {
      "text/plain": [
       "SVR(C=2.0, cache_size=200, coef0=0.0, degree=3, epsilon=0.1, gamma=0.09,\n",
       "  kernel='rbf', max_iter=-1, shrinking=True, tol=0.001, verbose=False)"
      ]
     },
     "execution_count": 253,
     "metadata": {},
     "output_type": "execute_result"
    }
   ],
   "source": [
    "svr_01.fit(X_train_01, y_train_01)"
   ]
  },
  {
   "cell_type": "code",
   "execution_count": 256,
   "metadata": {
    "collapsed": true
   },
   "outputs": [],
   "source": [
    "#scores = cross_val_score(svr_01, X_train_01, y_train_01, cv = 10, n_jobs = -1, )\n",
    "print(scores.mean())"
   ]
  },
  {
   "cell_type": "markdown",
   "metadata": {
    "collapsed": true
   },
   "source": [
    "### r2_score on validation data:"
   ]
  },
  {
   "cell_type": "code",
   "execution_count": 191,
   "metadata": {
    "collapsed": false
   },
   "outputs": [],
   "source": [
    "svr_val_normalizedVal_01 = svr_01.predict(X_val_01)"
   ]
  },
  {
   "cell_type": "code",
   "execution_count": 192,
   "metadata": {
    "collapsed": false
   },
   "outputs": [
    {
     "data": {
      "text/plain": [
       "0.78505519903364807"
      ]
     },
     "execution_count": 192,
     "metadata": {},
     "output_type": "execute_result"
    }
   ],
   "source": [
    "r2_score(y_val_01, svr_val_normalizedVal_01 )"
   ]
  },
  {
   "cell_type": "markdown",
   "metadata": {},
   "source": [
    "### r2_score on training data:"
   ]
  },
  {
   "cell_type": "code",
   "execution_count": 262,
   "metadata": {
    "collapsed": true
   },
   "outputs": [],
   "source": [
    "#svr_train_normalizedPredict_01 = svr_01.predict(X_train_01)"
   ]
  },
  {
   "cell_type": "code",
   "execution_count": 263,
   "metadata": {
    "collapsed": false
   },
   "outputs": [
    {
     "data": {
      "text/plain": [
       "0.86993384512154592"
      ]
     },
     "execution_count": 263,
     "metadata": {},
     "output_type": "execute_result"
    }
   ],
   "source": [
    "#r2_score(y_train_01, svr_train_normalizedPredict_01 )"
   ]
  },
  {
   "cell_type": "markdown",
   "metadata": {
    "collapsed": false
   },
   "source": [
    "### r2_score on testing data:"
   ]
  },
  {
   "cell_type": "code",
   "execution_count": 197,
   "metadata": {
    "collapsed": false
   },
   "outputs": [
    {
     "data": {
      "text/plain": [
       "0.79490491756689829"
      ]
     },
     "execution_count": 197,
     "metadata": {},
     "output_type": "execute_result"
    }
   ],
   "source": [
    "svr_test_normalizedPredict_01 = svr_01.predict(X_test_01)\n",
    "#r2_score(y_test_01, svr_test_normalizedPredict_01 )"
   ]
  },
  {
   "cell_type": "code",
   "execution_count": 259,
   "metadata": {
    "collapsed": true
   },
   "outputs": [],
   "source": [
    "svr_test_predict_01 = ss_y.inverse_transform(svr_test_normalizedPredict_01)"
   ]
  },
  {
   "cell_type": "code",
   "execution_count": 260,
   "metadata": {
    "collapsed": true
   },
   "outputs": [],
   "source": [
    "combine_predict = (svr_test_predict_01 + rfr_test_predict_01)/2.0"
   ]
  },
  {
   "cell_type": "code",
   "execution_count": null,
   "metadata": {
    "collapsed": false
   },
   "outputs": [],
   "source": [
    "#r2_score(AN_list, combine_predict )"
   ]
  },
  {
   "cell_type": "code",
   "execution_count": null,
   "metadata": {
    "collapsed": true
   },
   "outputs": [],
   "source": []
  },
  {
   "cell_type": "markdown",
   "metadata": {},
   "source": [
    "## Cross Validation"
   ]
  },
  {
   "cell_type": "code",
   "execution_count": 198,
   "metadata": {
    "collapsed": true
   },
   "outputs": [],
   "source": [
    "svr_02 = SVR( kernel = 'rbf', C = 5.0, epsilon= 0.1,  gamma = 0.03)"
   ]
  },
  {
   "cell_type": "code",
   "execution_count": 203,
   "metadata": {
    "collapsed": true
   },
   "outputs": [],
   "source": [
    "svr_03 = SVR( kernel = 'rbf', C = 10.0, epsilon= 0.1,  gamma = 0.1)"
   ]
  },
  {
   "cell_type": "code",
   "execution_count": 204,
   "metadata": {
    "collapsed": true
   },
   "outputs": [],
   "source": [
    "cv_range = range(2,21,1)\n",
    "#cv_range = [2, 3, 5, 10]\n",
    "results_svr = []"
   ]
  },
  {
   "cell_type": "code",
   "execution_count": 205,
   "metadata": {
    "collapsed": true
   },
   "outputs": [],
   "source": [
    "for cv_val in cv_range:\n",
    "    scores = cross_val_score(svr_03, X_train_01, y_train_01, cv = cv_val, n_jobs = -1, )\n",
    "    results_svr = np.append(results_svr, scores.mean() )"
   ]
  },
  {
   "cell_type": "code",
   "execution_count": 206,
   "metadata": {
    "collapsed": false
   },
   "outputs": [
    {
     "name": "stdout",
     "output_type": "stream",
     "text": [
      "[ 0.75603969  0.76455783  0.76899398  0.76735636  0.77157823  0.77268688\n",
      "  0.7725257   0.77301267  0.77296642  0.77214435  0.77568838  0.77498727\n",
      "  0.77428789  0.7730501   0.77306462  0.77436908  0.77321366  0.77486714\n",
      "  0.77428569]\n"
     ]
    }
   ],
   "source": [
    "print(results_svr)\n",
    "results_svr_03 = results_svr"
   ]
  },
  {
   "cell_type": "code",
   "execution_count": 207,
   "metadata": {
    "collapsed": false
   },
   "outputs": [
    {
     "data": {
      "image/png": "[encoded data removed]",
      "text/plain": [
       "<matplotlib.figure.Figure at 0x7f32924c3110>"
      ]
     },
     "metadata": {},
     "output_type": "display_data"
    }
   ],
   "source": [
    "plt.figure(2)\n",
    "plt.subplot(111)\n",
    "plt.plot(cv_range, results_svr_02, label='svr_02')\n",
    "plt.plot(cv_range, results_svr_03, label='svr_03')\n",
    "plt.title('cv_r2_score')\n",
    "plt.legend(loc='upper left')\n",
    "# plt.savefig('01.png',dpi=300,format='png')\n",
    "plt.show()\n",
    "#plt.close()"
   ]
  },
  {
   "cell_type": "markdown",
   "metadata": {},
   "source": [
    "## ---> 10-fold cv seems to be ok"
   ]
  },
  {
   "cell_type": "code",
   "execution_count": null,
   "metadata": {
    "collapsed": true
   },
   "outputs": [],
   "source": []
  },
  {
   "cell_type": "markdown",
   "metadata": {},
   "source": [
    "## Search for better parameters"
   ]
  },
  {
   "cell_type": "code",
   "execution_count": 238,
   "metadata": {
    "collapsed": false
   },
   "outputs": [
    {
     "name": "stdout",
     "output_type": "stream",
     "text": [
      "(2.0, 0.09, 0.79425314675064185)\n"
     ]
    }
   ],
   "source": [
    "C_range = [1.5, 2.0, 2.5, 3, 3.5]\n",
    "gamma_range = [0.05, 0.07, 0.09, 0.11, 0.13, 0.15]\n",
    "results_para_svr = []\n",
    "best_C = 0.\n",
    "best_gamma = 0.\n",
    "max_score = 0.\n",
    "for C_val in C_range:\n",
    "    for gamma_val in gamma_range:\n",
    "        svr_search = SVR( kernel = 'rbf', C = C_val, epsilon= 0.1,  gamma = gamma_val)\n",
    "        scores = cross_val_score(svr_search, X_train_01, y_train_01, cv = 12 , n_jobs = -1, )\n",
    "        mean_score = scores.mean()\n",
    "        if  mean_score > max_score:\n",
    "            max_score = mean_score\n",
    "            best_C = C_val\n",
    "            best_gamma = gamma_val\n",
    "        results_para_svr = np.append( results_para_svr, mean_score )\n",
    "print(best_C, best_gamma, max_score)"
   ]
  },
  {
   "cell_type": "markdown",
   "metadata": {},
   "source": [
    "To make an array with :    \n",
    "row_index <===>  C_val    \n",
    "column_undex <===>  gamma_val    "
   ]
  },
  {
   "cell_type": "code",
   "execution_count": 239,
   "metadata": {
    "collapsed": true
   },
   "outputs": [],
   "source": [
    "results_para_svr = np.reshape(results_para_svr, (len(C_range), len(gamma_range))  )"
   ]
  },
  {
   "cell_type": "code",
   "execution_count": 240,
   "metadata": {
    "collapsed": false
   },
   "outputs": [
    {
     "name": "stdout",
     "output_type": "stream",
     "text": [
      "[[ 0.78629205  0.79208019  0.7940867   0.79416322  0.79254797  0.79098019]\n",
      " [ 0.78862251  0.79303754  0.79425315  0.79348019  0.79165588  0.7898441 ]\n",
      " [ 0.78999811  0.79312787  0.79390288  0.7925136   0.79047854  0.78781938]\n",
      " [ 0.79059666  0.79288267  0.7933693   0.79153733  0.78879645  0.78521339]\n",
      " [ 0.79089606  0.79278286  0.79264301  0.79032294  0.78666739  0.78284639]]\n"
     ]
    }
   ],
   "source": [
    "print(results_para_svr)"
   ]
  },
  {
   "cell_type": "markdown",
   "metadata": {},
   "source": [
    "### optimal parameters :  (2.0, 0.09, 0.79425314675064185)"
   ]
  },
  {
   "cell_type": "code",
   "execution_count": null,
   "metadata": {
    "collapsed": true
   },
   "outputs": [],
   "source": []
  },
  {
   "cell_type": "code",
   "execution_count": 217,
   "metadata": {
    "collapsed": false
   },
   "outputs": [
    {
     "data": {
      "image/png": "[encoded data removed]",
      "text/plain": [
       "<matplotlib.figure.Figure at 0x7f329773e410>"
      ]
     },
     "metadata": {},
     "output_type": "display_data"
    }
   ],
   "source": [
    "plt.figure(3)\n",
    "plt.subplot(111)\n",
    "plt.plot(gamma_range, results_para_svr[0,:], label='C = 1')\n",
    "plt.plot(gamma_range, results_para_svr[1,:], label='C = 5')\n",
    "plt.plot(gamma_range, results_para_svr[2,:], label='C = 10')\n",
    "plt.plot(gamma_range, results_para_svr[3,:], label='C = 15')\n",
    "plt.title('cv_r2_score  cv=5')\n",
    "plt.legend(loc='lower right')\n",
    "# plt.savefig('01.png',dpi=300,format='png')\n",
    "plt.show()\n",
    "#plt.close()"
   ]
  },
  {
   "cell_type": "code",
   "execution_count": 233,
   "metadata": {
    "collapsed": false
   },
   "outputs": [
    {
     "data": {
      "image/png": "[encoded data removed]",
      "text/plain": [
       "<matplotlib.figure.Figure at 0x7f3292305850>"
      ]
     },
     "metadata": {},
     "output_type": "display_data"
    }
   ],
   "source": [
    "plt.figure(4)\n",
    "plt.subplot(111)\n",
    "plt.plot(gamma_range, results_para_svr[0,:], label='C = 0.5')\n",
    "plt.plot(gamma_range, results_para_svr[1,:], label='C = 0.8')\n",
    "plt.plot(gamma_range, results_para_svr[2,:], label='C = 1.')\n",
    "plt.plot(gamma_range, results_para_svr[3,:], label='C = 1.2')\n",
    "plt.plot(gamma_range, results_para_svr[4,:], label='C = 1.5')\n",
    "plt.title('cv_r2_score  cv=5')\n",
    "plt.legend(loc='lower right')\n",
    "# plt.savefig('01.png',dpi=300,format='png')\n",
    "plt.show()\n",
    "#plt.close()"
   ]
  },
  {
   "cell_type": "code",
   "execution_count": 237,
   "metadata": {
    "collapsed": false
   },
   "outputs": [
    {
     "data": {
      "image/png": "[encoded data removed]",
      "text/plain": [
       "<matplotlib.figure.Figure at 0x7f3283992d50>"
      ]
     },
     "metadata": {},
     "output_type": "display_data"
    }
   ],
   "source": [
    "plt.figure(5)\n",
    "plt.subplot(111)\n",
    "plt.plot(gamma_range, results_para_svr[0,:], label='C = 1.5')\n",
    "plt.plot(gamma_range, results_para_svr[1,:], label='C = 2.0')\n",
    "plt.plot(gamma_range, results_para_svr[2,:], label='C = 2.5')\n",
    "plt.plot(gamma_range, results_para_svr[3,:], label='C = 3.0')\n",
    "plt.plot(gamma_range, results_para_svr[4,:], label='C = 3.5')\n",
    "plt.title('cv_r2_score  cv=5')\n",
    "plt.legend(loc='lower right')\n",
    "# plt.savefig('01.png',dpi=300,format='png')\n",
    "plt.show()\n",
    "#plt.close()"
   ]
  },
  {
   "cell_type": "code",
   "execution_count": null,
   "metadata": {
    "collapsed": true
   },
   "outputs": [],
   "source": []
  },
  {
   "cell_type": "code",
   "execution_count": 241,
   "metadata": {
    "collapsed": false
   },
   "outputs": [
    {
     "data": {
      "image/png": "[encoded data removed]",
      "text/plain": [
       "<matplotlib.figure.Figure at 0x7f3283a74d10>"
      ]
     },
     "metadata": {},
     "output_type": "display_data"
    }
   ],
   "source": [
    "plt.figure(6)\n",
    "plt.subplot(111)\n",
    "plt.plot(gamma_range, results_para_svr[0,:], label='C = 1.5')\n",
    "plt.plot(gamma_range, results_para_svr[1,:], label='C = 2.0')\n",
    "plt.plot(gamma_range, results_para_svr[2,:], label='C = 2.5')\n",
    "plt.plot(gamma_range, results_para_svr[3,:], label='C = 3.0')\n",
    "plt.plot(gamma_range, results_para_svr[4,:], label='C = 3.5')\n",
    "plt.title('cv_r2_score  cv=12')\n",
    "plt.legend(loc='lower right')\n",
    "# plt.savefig('01.png',dpi=300,format='png')\n",
    "plt.show()\n",
    "#plt.close()"
   ]
  },
  {
   "cell_type": "markdown",
   "metadata": {},
   "source": [
    "## Create a csv file"
   ]
  },
  {
   "cell_type": "code",
   "execution_count": 318,
   "metadata": {
    "collapsed": true
   },
   "outputs": [],
   "source": [
    "comb_result = pd.concat([df_test.id,  pd.DataFrame(combine_predict)  ], axis=1)\n",
    "comb_result.columns = ['id','predict']\n",
    "comb_result.id = comb_result.id.apply(np.int64)\n",
    "comb_result.to_csv('submit_03.csv', index=False)"
   ]
  },
  {
   "cell_type": "code",
   "execution_count": null,
   "metadata": {
    "collapsed": true
   },
   "outputs": [],
   "source": []
  },
  {
   "cell_type": "code",
   "execution_count": null,
   "metadata": {
    "collapsed": true
   },
   "outputs": [],
   "source": []
  },
  {
   "cell_type": "markdown",
   "metadata": {
    "collapsed": true
   },
   "source": [
    "## A shallow Neural Network"
   ]
  },
  {
   "cell_type": "code",
   "execution_count": 265,
   "metadata": {
    "collapsed": false
   },
   "outputs": [
    {
     "name": "stderr",
     "output_type": "stream",
     "text": [
      "Using TensorFlow backend.\n"
     ]
    }
   ],
   "source": [
    "%matplotlib inline\n",
    "from __future__ import division,print_function\n",
    "import os, json\n",
    "from glob import glob\n",
    "import scipy\n",
    "from sklearn.preprocessing import OneHotEncoder\n",
    "from sklearn.metrics import confusion_matrix\n",
    "np.set_printoptions(precision=4, linewidth=100)\n",
    "import utils; reload(utils)\n",
    "from utils import plots, get_batches, plot_confusion_matrix, get_data"
   ]
  },
  {
   "cell_type": "code",
   "execution_count": 266,
   "metadata": {
    "collapsed": true
   },
   "outputs": [],
   "source": [
    "from numpy import genfromtxt\n",
    "from numpy.random import random, permutation\n",
    "from keras.utils import np_utils\n",
    "from keras.utils.data_utils import get_file"
   ]
  },
  {
   "cell_type": "code",
   "execution_count": 267,
   "metadata": {
    "collapsed": true
   },
   "outputs": [],
   "source": [
    "from keras.models import Sequential\n",
    "from keras.layers import Input\n",
    "from keras.layers.core import Dense, Activation, Dropout, Flatten, Lambda\n",
    "from keras.optimizers import SGD, Adam, RMSprop, Adagrad\n",
    "from sklearn.utils import shuffle\n",
    "from keras.layers.advanced_activations import LeakyReLU\n",
    "from keras.regularizers import l1,l2\n",
    "from keras.layers.convolutional import Convolution2D, MaxPooling2D, ZeroPadding2D\n",
    "from keras.callbacks import EarlyStopping\n",
    "import matplotlib.pyplot as plt\n",
    "from keras.layers.normalization import BatchNormalization"
   ]
  },
  {
   "cell_type": "code",
   "execution_count": 100,
   "metadata": {
    "collapsed": true
   },
   "outputs": [],
   "source": [
    "#from scipy.sparse import csr_matrix"
   ]
  },
  {
   "cell_type": "code",
   "execution_count": 268,
   "metadata": {
    "collapsed": true
   },
   "outputs": [],
   "source": [
    "def NN_r2_score(y_true, y_pred):\n",
    "    SS_res =  np.sum(np.square(y_true - y_pred)) \n",
    "    SS_tot = np.sum(np.square(y_true - np.mean(y_true))) \n",
    "    return ( 1 - SS_res/(SS_tot+0.0001) )"
   ]
  },
  {
   "cell_type": "markdown",
   "metadata": {},
   "source": [
    "## Prepare train/val/test data for NN"
   ]
  },
  {
   "cell_type": "code",
   "execution_count": null,
   "metadata": {
    "collapsed": true
   },
   "outputs": [],
   "source": [
    "#batches = get_batches(path+'train', shuffle=False, batch_size=batch_size)\n",
    "#val_batches = get_batches(path+'valid', shuffle=False, batch_size=batch_size)"
   ]
  },
  {
   "cell_type": "code",
   "execution_count": 269,
   "metadata": {
    "collapsed": false
   },
   "outputs": [],
   "source": [
    "##y_01 = ss_y.fit_transform(y_01)\n",
    "##y_test_01 = ss_y.transform(AN_list)\n",
    "X_01 = pd.concat([pd.DataFrame(X_01_num),  X_01_cate  ], axis=1)\n",
    "X_test_01 = pd.concat([pd.DataFrame(X_test_01_num),  X_test_01_cate  ], axis=1)\n",
    "X_01.columns = list_num + list_categ\n",
    "X_test_01.columns = list_num + list_categ"
   ]
  },
  {
   "cell_type": "code",
   "execution_count": 271,
   "metadata": {
    "collapsed": true
   },
   "outputs": [],
   "source": [
    "X_train_01, X_val_01, y_train_01, y_val_01 =train_test_split(\n",
    "    X_01, y_01, test_size = 0.3, random_state = 222 )"
   ]
  },
  {
   "cell_type": "code",
   "execution_count": 273,
   "metadata": {
    "collapsed": false
   },
   "outputs": [],
   "source": [
    "X_train_01 = vec.fit_transform(X_train_01.to_dict(orient = 'record'))\n",
    "X_test_01 = vec.transform(X_test_01.to_dict(orient = 'record'))"
   ]
  },
  {
   "cell_type": "code",
   "execution_count": 274,
   "metadata": {
    "collapsed": true
   },
   "outputs": [],
   "source": [
    "X_val_01 = vec.transform(X_val_01.to_dict(orient = 'record'))"
   ]
  },
  {
   "cell_type": "code",
   "execution_count": 276,
   "metadata": {
    "collapsed": false
   },
   "outputs": [],
   "source": [
    "train_x = X_train_01.toarray()\n",
    "train_y = y_train_01\n",
    "test_x = X_test_01.toarray()\n",
    "#test_y = y_test_01 "
   ]
  },
  {
   "cell_type": "code",
   "execution_count": 277,
   "metadata": {
    "collapsed": true
   },
   "outputs": [],
   "source": [
    "val_x = X_val_01.toarray()\n",
    "val_y = y_val_01"
   ]
  },
  {
   "cell_type": "code",
   "execution_count": 278,
   "metadata": {
    "collapsed": false,
    "scrolled": true
   },
   "outputs": [
    {
     "name": "stdout",
     "output_type": "stream",
     "text": [
      "(3428, 62)\n",
      "(3428,)\n",
      "(5000, 62)\n",
      "(5000,)\n"
     ]
    }
   ],
   "source": [
    "print(train_x.shape) \n",
    "print(train_y.shape )\n",
    "print(test_x.shape) \n",
    "print(test_y.shape) "
   ]
  },
  {
   "cell_type": "code",
   "execution_count": null,
   "metadata": {
    "collapsed": true
   },
   "outputs": [],
   "source": []
  },
  {
   "cell_type": "code",
   "execution_count": 726,
   "metadata": {
    "collapsed": true
   },
   "outputs": [],
   "source": [
    "#model = Sequential()\n",
    "#model.add(Dense(1, activation='linear',  input_shape=(train_x.shape[1],) ,\n",
    "#                         W_regularizer = l2(lambda_w )   ) )"
   ]
  },
  {
   "cell_type": "code",
   "execution_count": 496,
   "metadata": {
    "collapsed": true
   },
   "outputs": [],
   "source": [
    "#model = Sequential()\n",
    "#model.add(   Dense(256, activation='relu',  input_shape=(train_x.shape[1],) ,\n",
    "#                         W_regularizer = l2(lambda_w )   )   )\n",
    "#model.add(BatchNormalization())\n",
    "#model.add(Dropout(p))\n",
    "#model.add(Dense(1, activation='linear', name='output',\n",
    "#                         W_regularizer = l2(lambda_w )   )  )"
   ]
  },
  {
   "cell_type": "markdown",
   "metadata": {},
   "source": [
    "##  Use the NN model below:"
   ]
  },
  {
   "cell_type": "code",
   "execution_count": 279,
   "metadata": {
    "collapsed": true
   },
   "outputs": [],
   "source": [
    "lambda_w = 0.00\n",
    "p = 0.4\n",
    "earlyStopping=EarlyStopping(monitor = 'val_loss', patience = 3)"
   ]
  },
  {
   "cell_type": "code",
   "execution_count": 280,
   "metadata": {
    "collapsed": false
   },
   "outputs": [],
   "source": [
    "model = Sequential()\n",
    "model.add(   Dense(512, activation='relu',  input_shape=(train_x.shape[1],) ,\n",
    "                         W_regularizer = l2(lambda_w )   )   )\n",
    "model.add(BatchNormalization())\n",
    "model.add(Dropout(p))\n",
    "model.add(   Dense(32, activation=  'relu' ,\n",
    "                         W_regularizer = l2(lambda_w )   )  )\n",
    "model.add(BatchNormalization())\n",
    "model.add(Dropout(p))\n",
    "model.add(Dense(1, activation='linear', name='output',\n",
    "                         W_regularizer = l2(lambda_w )   )  )"
   ]
  },
  {
   "cell_type": "code",
   "execution_count": 281,
   "metadata": {
    "collapsed": true
   },
   "outputs": [],
   "source": [
    "model.compile(optimizer=   Adam(lr=0.001, beta_1=0.9, beta_2=0.999,\n",
    "                                  epsilon=1e-08, decay=0.0 ),\n",
    "                                  loss='mse', metrics=['mse'])"
   ]
  },
  {
   "cell_type": "code",
   "execution_count": 282,
   "metadata": {
    "collapsed": false,
    "scrolled": true
   },
   "outputs": [
    {
     "name": "stdout",
     "output_type": "stream",
     "text": [
      "Train on 3085 samples, validate on 343 samples\n",
      "Epoch 1/20\n",
      "3085/3085 [==============================] - 1s - loss: 2.0761 - mean_squared_error: 2.0761 - val_loss: 0.6481 - val_mean_squared_error: 0.6481\n",
      "Epoch 2/20\n",
      "3085/3085 [==============================] - 0s - loss: 1.2198 - mean_squared_error: 1.2198 - val_loss: 0.5660 - val_mean_squared_error: 0.5660\n",
      "Epoch 3/20\n",
      "3085/3085 [==============================] - 0s - loss: 0.8181 - mean_squared_error: 0.8181 - val_loss: 0.3943 - val_mean_squared_error: 0.3943\n",
      "Epoch 4/20\n",
      "3085/3085 [==============================] - 0s - loss: 0.6813 - mean_squared_error: 0.6813 - val_loss: 0.3036 - val_mean_squared_error: 0.3036\n",
      "Epoch 5/20\n",
      "3085/3085 [==============================] - 0s - loss: 0.5888 - mean_squared_error: 0.5888 - val_loss: 0.2524 - val_mean_squared_error: 0.2524\n",
      "Epoch 6/20\n",
      "3085/3085 [==============================] - 0s - loss: 0.4811 - mean_squared_error: 0.4811 - val_loss: 0.2142 - val_mean_squared_error: 0.2142\n",
      "Epoch 7/20\n",
      "3085/3085 [==============================] - 0s - loss: 0.4280 - mean_squared_error: 0.4280 - val_loss: 0.2085 - val_mean_squared_error: 0.2085\n",
      "Epoch 8/20\n",
      "3085/3085 [==============================] - 0s - loss: 0.3838 - mean_squared_error: 0.3838 - val_loss: 0.2075 - val_mean_squared_error: 0.2075\n",
      "Epoch 9/20\n",
      "3085/3085 [==============================] - 0s - loss: 0.3390 - mean_squared_error: 0.3390 - val_loss: 0.1938 - val_mean_squared_error: 0.1938\n",
      "Epoch 10/20\n",
      "3085/3085 [==============================] - 0s - loss: 0.3507 - mean_squared_error: 0.3507 - val_loss: 0.1982 - val_mean_squared_error: 0.1982\n",
      "Epoch 11/20\n",
      "3085/3085 [==============================] - 0s - loss: 0.3170 - mean_squared_error: 0.3170 - val_loss: 0.1978 - val_mean_squared_error: 0.1978\n",
      "Epoch 12/20\n",
      "3085/3085 [==============================] - 0s - loss: 0.3200 - mean_squared_error: 0.3200 - val_loss: 0.1966 - val_mean_squared_error: 0.1966\n",
      "Epoch 13/20\n",
      "3085/3085 [==============================] - 0s - loss: 0.2884 - mean_squared_error: 0.2884 - val_loss: 0.1934 - val_mean_squared_error: 0.1934\n",
      "Epoch 14/20\n",
      "3085/3085 [==============================] - 0s - loss: 0.2968 - mean_squared_error: 0.2968 - val_loss: 0.1906 - val_mean_squared_error: 0.1906\n",
      "Epoch 15/20\n",
      "3085/3085 [==============================] - 0s - loss: 0.2790 - mean_squared_error: 0.2790 - val_loss: 0.1992 - val_mean_squared_error: 0.1992\n",
      "Epoch 16/20\n",
      "3085/3085 [==============================] - 0s - loss: 0.2827 - mean_squared_error: 0.2827 - val_loss: 0.1943 - val_mean_squared_error: 0.1943\n",
      "Epoch 17/20\n",
      "3085/3085 [==============================] - 0s - loss: 0.2690 - mean_squared_error: 0.2690 - val_loss: 0.1935 - val_mean_squared_error: 0.1935\n",
      "Epoch 18/20\n",
      "3085/3085 [==============================] - 0s - loss: 0.2654 - mean_squared_error: 0.2654 - val_loss: 0.1954 - val_mean_squared_error: 0.1954\n"
     ]
    }
   ],
   "source": [
    "model_history = model.fit( train_x, train_y, nb_epoch= 20,\n",
    "                                                    batch_size=  32 ,\n",
    "                                                    verbose= 1,\n",
    "                                                    shuffle=True,\n",
    "                                                    validation_split = 0.1,       \n",
    "                                                    callbacks =[earlyStopping]    )    "
   ]
  },
  {
   "cell_type": "code",
   "execution_count": 284,
   "metadata": {
    "collapsed": true
   },
   "outputs": [],
   "source": [
    "loss = model_history.history.get('loss')\n",
    "#mse = model_history.history.get('mean_squared_error')\n",
    "val_loss = model_history.history.get('val_loss')\n",
    "#val_mse = model_history.history.get('val_mean_squared_error')"
   ]
  },
  {
   "cell_type": "markdown",
   "metadata": {},
   "source": [
    "## Plot loss/val_loss vs. epoch"
   ]
  },
  {
   "cell_type": "code",
   "execution_count": 286,
   "metadata": {
    "collapsed": false
   },
   "outputs": [
    {
     "data": {
      "image/png": "[encoded data removed]",
      "text/plain": [
       "<matplotlib.figure.Figure at 0x7f3297f679d0>"
      ]
     },
     "metadata": {},
     "output_type": "display_data"
    }
   ],
   "source": [
    "plt.figure(0)\n",
    "plt.subplot(111)\n",
    "plt.plot(range(len(loss)), loss,label='loss')\n",
    "plt.plot(range(len(val_loss)), val_loss, label='val_loss')\n",
    "plt.title('Loss')\n",
    "plt.legend(loc='upper left')\n",
    "#plt.subplot(122)\n",
    "#plt.plot(range(len(acc)), acc,label='accuracy')\n",
    "#plt.plot(range(len(val_acc)), val_acc, label='val_accuracy')\n",
    "#plt.title('Accuracy')\n",
    "plt.show()\n",
    "#plt.savefig('01.png',dpi=300,format='png')\n",
    "#plt.close()"
   ]
  },
  {
   "cell_type": "markdown",
   "metadata": {},
   "source": [
    "### r2_score on training data:"
   ]
  },
  {
   "cell_type": "code",
   "execution_count": 287,
   "metadata": {
    "collapsed": false
   },
   "outputs": [
    {
     "name": "stdout",
     "output_type": "stream",
     "text": [
      "0.823883122424\n"
     ]
    }
   ],
   "source": [
    "NN_y_normalizedpredict = model.predict(train_x)\n",
    "NN_y_normalizedpredict = np.reshape(NN_y_normalizedpredict, (train_x.shape[0], )  )\n",
    "score_train = NN_r2_score(train_y, NN_y_normalizedpredict)\n",
    "print(score_train)"
   ]
  },
  {
   "cell_type": "markdown",
   "metadata": {},
   "source": [
    "### r2_score on validation data:"
   ]
  },
  {
   "cell_type": "code",
   "execution_count": 290,
   "metadata": {
    "collapsed": false
   },
   "outputs": [
    {
     "name": "stdout",
     "output_type": "stream",
     "text": [
      "0.758691692489\n"
     ]
    }
   ],
   "source": [
    "y_NN_val_predict = model.predict(val_x)\n",
    "y_NN_val_predict = np.reshape(y_NN_val_predict, (val_y.shape[0], )  )\n",
    "score_val = NN_r2_score(val_y, y_NN_val_predict)\n",
    "print (score_val)"
   ]
  },
  {
   "cell_type": "markdown",
   "metadata": {},
   "source": [
    "### r2_score on test data:"
   ]
  },
  {
   "cell_type": "code",
   "execution_count": 288,
   "metadata": {
    "collapsed": false
   },
   "outputs": [
    {
     "name": "stdout",
     "output_type": "stream",
     "text": [
      "0.788750123254\n"
     ]
    }
   ],
   "source": [
    "NN_y_normalizedPredict_test = model.predict(test_x)\n",
    "NN_y_normalizedPredict_test = np.reshape(NN_y_normalizedPredict_test, (test_x.shape[0], )  )\n",
    "#score_test = NN_r2_score(test_y, NN_y_normalizedPredict_test )\n",
    "#NN_y_predict_01 = ss_y.inverse_transform(NN_y_normalizedPredict_01)                         \n",
    "#NN_y_predict_01 = np.reshape(NN_y_predict_01, (test_x.shape[0], ) )\n",
    "#score_test = r2_score(AN_list, NN_y_predict_01 )\n",
    "print (score_test)"
   ]
  },
  {
   "cell_type": "code",
   "execution_count": 289,
   "metadata": {
    "collapsed": false
   },
   "outputs": [
    {
     "name": "stdout",
     "output_type": "stream",
     "text": [
      "0.788750117448\n"
     ]
    }
   ],
   "source": [
    "NN_y_Predict_test = ss_y.inverse_transform(NN_y_normalizedPredict_test)\n",
    "#score_test2 = NN_r2_score(np.array(AN_list), NN_y_Predict_test )\n",
    "#print (score_test2)"
   ]
  },
  {
   "cell_type": "markdown",
   "metadata": {},
   "source": [
    "### combined prediction:"
   ]
  },
  {
   "cell_type": "code",
   "execution_count": 295,
   "metadata": {
    "collapsed": false
   },
   "outputs": [],
   "source": [
    "combine_predict = (svr_test_predict_01 + rfr_test_predict_01 + NN_y_Predict_test)/3.0\n",
    "#r2_score(AN_list, combine_predict )"
   ]
  },
  {
   "cell_type": "code",
   "execution_count": null,
   "metadata": {
    "collapsed": true
   },
   "outputs": [],
   "source": []
  },
  {
   "cell_type": "code",
   "execution_count": null,
   "metadata": {
    "collapsed": false
   },
   "outputs": [],
   "source": []
  },
  {
   "cell_type": "code",
   "execution_count": 286,
   "metadata": {
    "collapsed": false
   },
   "outputs": [],
   "source": [
    "mean_test = test_y.mean()\n",
    "rel_err=[]\n",
    "for idx in range(len(test_y)):\n",
    "    rel_err.append(abs(NN_y_normalizedPredict_test[idx]-test_y[idx])/abs(test_y[idx]- mean_test   ))"
   ]
  },
  {
   "cell_type": "code",
   "execution_count": null,
   "metadata": {
    "collapsed": true
   },
   "outputs": [],
   "source": []
  },
  {
   "cell_type": "code",
   "execution_count": null,
   "metadata": {
    "collapsed": true
   },
   "outputs": [],
   "source": []
  },
  {
   "cell_type": "code",
   "execution_count": null,
   "metadata": {
    "collapsed": true
   },
   "outputs": [],
   "source": []
  },
  {
   "cell_type": "code",
   "execution_count": null,
   "metadata": {
    "collapsed": true
   },
   "outputs": [],
   "source": []
  },
  {
   "cell_type": "code",
   "execution_count": null,
   "metadata": {
    "collapsed": true
   },
   "outputs": [],
   "source": []
  },
  {
   "cell_type": "code",
   "execution_count": null,
   "metadata": {
    "collapsed": true
   },
   "outputs": [],
   "source": []
  },
  {
   "cell_type": "code",
   "execution_count": null,
   "metadata": {
    "collapsed": true
   },
   "outputs": [],
   "source": []
  },
  {
   "cell_type": "code",
   "execution_count": null,
   "metadata": {
    "collapsed": true
   },
   "outputs": [],
   "source": []
  },
  {
   "cell_type": "code",
   "execution_count": null,
   "metadata": {
    "collapsed": true
   },
   "outputs": [],
   "source": []
  },
  {
   "cell_type": "code",
   "execution_count": null,
   "metadata": {
    "collapsed": true
   },
   "outputs": [],
   "source": []
  }
 ],
 "metadata": {
  "anaconda-cloud": {},
  "kernelspec": {
   "display_name": "Python [Root]",
   "language": "python",
   "name": "Python [Root]"
  },
  "language_info": {
   "codemirror_mode": {
    "name": "ipython",
    "version": 2
   },
   "file_extension": ".py",
   "mimetype": "text/x-python",
   "name": "python",
   "nbconvert_exporter": "python",
   "pygments_lexer": "ipython2",
   "version": "2.7.12"
  }
 },
 "nbformat": 4,
 "nbformat_minor": 0
}
